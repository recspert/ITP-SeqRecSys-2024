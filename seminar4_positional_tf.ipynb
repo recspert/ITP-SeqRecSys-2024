{
 "cells": [
  {
   "cell_type": "code",
   "execution_count": null,
   "metadata": {},
   "outputs": [],
   "source": [
    "import os\n",
    "username = 'recspert'\n",
    "repo = 'ITP-SeqRecSys-2024'\n",
    "\n",
    "# remove local directory if it already exists\n",
    "if os.path.isdir(repo):\n",
    "    !rm -rf {repo}\n",
    "\n",
    "!git clone https://github.com/{username}/{repo}.git"
   ]
  },
  {
   "cell_type": "code",
   "execution_count": null,
   "metadata": {},
   "outputs": [],
   "source": [
    "!pip install --no-cache-dir --upgrade git+https://github.com/evfro/polara.git@develop#egg=polara"
   ]
  },
  {
   "cell_type": "code",
   "execution_count": 1,
   "metadata": {},
   "outputs": [],
   "source": [
    "import numpy as np\n",
    "import pandas as pd\n",
    "\n",
    "from polara import get_movielens_data\n",
    "from polara.preprocessing.dataframes import leave_one_out, reindex\n",
    "\n",
    "\n",
    "%cd {repo}\n",
    "from source.dataprep.dataprep import split_data_global_timepoint, generate_interactions_matrix\n",
    "from source.evaluation.evaluation import topn_recommendations, model_evaluate, downvote_seen_items\n",
    "%cd -\n",
    "\n",
    "from tqdm.notebook import tqdm\n",
    "\n",
    "from scipy.sparse import csr_matrix, coo_matrix\n"
   ]
  },
  {
   "cell_type": "code",
   "execution_count": 2,
   "metadata": {},
   "outputs": [],
   "source": [
    "data = get_movielens_data(include_time=True)\n",
    "data_description = {\n",
    "    'users':'userid',\n",
    "    'items':'movieid',\n",
    "    'feedback':'rating',\n",
    "    'timestamp':'timestamp'\n",
    "}"
   ]
  },
  {
   "cell_type": "code",
   "execution_count": 3,
   "metadata": {},
   "outputs": [],
   "source": [
    "training, testset_valid, holdout_valid, testset, holdout, data_index, data_description = split_data_global_timepoint(data=data, data_description=data_description)"
   ]
  },
  {
   "cell_type": "code",
   "execution_count": 4,
   "metadata": {},
   "outputs": [],
   "source": [
    "data_description = {\n",
    "    'n_users':training.nunique()['userid'],\n",
    "    'n_items':training.nunique()['movieid'],\n",
    "    'users':'userid',\n",
    "    'items':'movieid',\n",
    "    'feedback':'rating',\n",
    "    'timestamp':'timestamp',\n",
    "    'positions':'pos'\n",
    "}"
   ]
  },
  {
   "cell_type": "markdown",
   "metadata": {},
   "source": [
    "First, let's assign each item in user's history a position number so that we can build the tensor iwth encoded positional information. The model accepts sequences of fixed length, which is a hyperparameter. If the user history contains more interactions, we just truncate the oldest interactions."
   ]
  },
  {
   "cell_type": "code",
   "execution_count": 5,
   "metadata": {},
   "outputs": [],
   "source": [
    "# assigns the position for an interaction in user's history:\n",
    "# last interaction gets n_pos - 1,\n",
    "# second-to last gest n_pos - 2, \n",
    "# and so on. \n",
    "\n",
    "def assign_positions(s, maxlen=200):\n",
    "    return np.arange(maxlen-len(s), maxlen)"
   ]
  },
  {
   "cell_type": "code",
   "execution_count": 6,
   "metadata": {},
   "outputs": [],
   "source": [
    "# this function assigns the positions for the dataframe of interactions\n",
    "\n",
    "def add_position_column(df, data_description, maxlen=200):\n",
    "    df_with_position = (\n",
    "        df\n",
    "        .sort_values(data_description['timestamp'])\n",
    "        .assign(\n",
    "            pos = lambda df: (\n",
    "                df\n",
    "                .groupby(data_description['users'])[data_description['items']]\n",
    "                .transform(assign_positions, maxlen=maxlen)\n",
    "                )\n",
    "        )\n",
    "        .sort_values([data_description['users'], data_description['timestamp']])\n",
    "        .query('pos>=0') # truncate the histories that contain more than maxlen interactions\n",
    "    )\n",
    "    return df_with_position"
   ]
  },
  {
   "cell_type": "code",
   "execution_count": 7,
   "metadata": {},
   "outputs": [],
   "source": [
    "n_pos = 200\n",
    "\n",
    "training_pos = add_position_column(training, data_description, maxlen=n_pos)\n",
    "testset_valid_pos = add_position_column(testset_valid, data_description, maxlen=n_pos)\n",
    "testset_pos = add_position_column(testset, data_description, maxlen=n_pos)"
   ]
  },
  {
   "cell_type": "code",
   "execution_count": null,
   "metadata": {},
   "outputs": [],
   "source": [
    "training[training['userid'] == 5].sort_values('timestamp').tail(5)"
   ]
  },
  {
   "cell_type": "code",
   "execution_count": null,
   "metadata": {},
   "outputs": [],
   "source": [
    "training_pos[training_pos['userid'] == 5].tail(5)"
   ]
  },
  {
   "cell_type": "markdown",
   "metadata": {},
   "source": [
    "# Positional TF"
   ]
  },
  {
   "cell_type": "markdown",
   "metadata": {},
   "source": [
    "Here we have the same situation as when we built the interactions matrix in previous seminars - the density of dataset is pretty low, and for the 3-d case, when we encode the positional information, the resulting tensor will be even sparser. We cannot afford building the dense version as it will not probably fit into the memory.\n",
    "\n",
    "That is why we are going to store the tensor in the form of quadruplets - user, item, position in history and value (in our case the values are all ones, indicating the presence of interaction)."
   ]
  },
  {
   "cell_type": "code",
   "execution_count": 10,
   "metadata": {},
   "outputs": [],
   "source": [
    "def generate_tensor(data, data_description, rebase_users=False):\n",
    "    userid = data_description[\"users\"]\n",
    "    itemid = data_description[\"items\"]\n",
    "    positions = data_description[\"positions\"]\n",
    "    \n",
    "    df = data.copy()\n",
    "    \n",
    "    if rebase_users:\n",
    "        user_idx, user_index = pd.factorize(\n",
    "            df[data_description['users']].values,\n",
    "            sort=True\n",
    "            )\n",
    "        df['factorized'] = user_idx\n",
    "        idx = ...\n",
    "    else:\n",
    "        idx = ...\n",
    "    val = ...\n",
    "    return idx, val"
   ]
  },
  {
   "cell_type": "code",
   "execution_count": 11,
   "metadata": {},
   "outputs": [],
   "source": [
    "idx, val = generate_tensor(training_pos, data_description)"
   ]
  },
  {
   "cell_type": "code",
   "execution_count": null,
   "metadata": {},
   "outputs": [],
   "source": [
    "idx[:, :5], val[:5]"
   ]
  },
  {
   "cell_type": "markdown",
   "metadata": {},
   "source": [
    "## Unfolding (Matricization, Flattening)"
   ]
  },
  {
   "cell_type": "markdown",
   "metadata": {},
   "source": [
    "To perform the HOOI algorithm we need to create the unfoldings of our sparse tensor into 3 matrices - along each mode. There are several ways how to do the unfolding, so-called *C-order* and *F-order*. (For example, Tamara Kolda in her [Tensor Review](https://www.kolda.net/publication/TensorReview.pdf) uses 'F-order'). We are going to use C-order since numpy and scipy use it, and reordering the array in F-order takes more time."
   ]
  },
  {
   "cell_type": "markdown",
   "metadata": {},
   "source": [
    "The formula for mode-n unfolding of tensor $\\mathcal{X}$ of arbitrary size $(I_1, I_2, ..., I_N)$ will result in a matrix $\\textbf{X}_{(n)}$ of size $(I_n, \\prod^N_{j = 1, j \\neq n}I_j)$, and the tensor element with indices $(i_1, ..., i_N)$ will map to the matrix element $(i_n, j)$, where $j$:\n",
    "\n",
    "$$\n",
    "j = \\sum_{k=1, k\\neq n}^n i_kJ_k\n",
    "$$\n",
    "\n",
    "$$\n",
    "J_k = \\prod_{m=k+1, m\\neq n}^N I_m\n",
    "$$"
   ]
  },
  {
   "cell_type": "markdown",
   "metadata": {},
   "source": [
    "Given a positional tensor $\\mathcal{R}$ of size $(M, N, P)$: users, items, positions. We can unfold this tensor in mode-1, that is user mode, and get a matrix $\\textbf{R}_{(1)}$ of size $(M, N\\cdot P)$ which will also be sparse. Unfoldings in item and position modes result in $\\textbf{R}_{(2)}$ of size $(N, M\\cdot P)$ and $\\textbf{R}_{(3)}$ of size $(P, M\\cdot N)$ respectively."
   ]
  },
  {
   "cell_type": "code",
   "execution_count": 13,
   "metadata": {},
   "outputs": [],
   "source": [
    "def unfold(idx, vals, shape, mode):\n",
    "    # idx, vals, shape - the description of sparse tensor\n",
    "    # mode - the mode for unfolding\n",
    "    \n",
    "    unfolding_shape = 1\n",
    "    contraction_modes = []\n",
    "    # calculate the unfolding shape\n",
    "    # and list of modes to contract\n",
    "    ...\n",
    "            \n",
    "    matrix_shape = (shape[mode], unfolding_shape)\n",
    "\n",
    "    # calculate J coefs for unfolding\n",
    "    J = []\n",
    "    ...\n",
    "\n",
    "    J = np.array(J)\n",
    "    \n",
    "    # create sparse unfolding\n",
    "    x = ...\n",
    "    y = ...\n",
    "\n",
    "    matrix = csr_matrix((vals, (x, y)), shape=matrix_shape)\n",
    "    return matrix"
   ]
  },
  {
   "cell_type": "code",
   "execution_count": null,
   "metadata": {},
   "outputs": [],
   "source": [
    "a = np.arange(24).reshape((3, 4, 2))\n",
    "print(a)"
   ]
  },
  {
   "cell_type": "code",
   "execution_count": null,
   "metadata": {},
   "outputs": [],
   "source": [
    "a[0, :, :], a[1, :, :], a[2, :, :]"
   ]
  },
  {
   "cell_type": "code",
   "execution_count": null,
   "metadata": {},
   "outputs": [],
   "source": [
    "a[:, :, 0], a[:, :, 1]"
   ]
  },
  {
   "cell_type": "code",
   "execution_count": null,
   "metadata": {},
   "outputs": [],
   "source": [
    "a[0, :, 0]"
   ]
  },
  {
   "cell_type": "code",
   "execution_count": 18,
   "metadata": {},
   "outputs": [],
   "source": [
    "shape_test = (3, 4, 2)\n",
    "idx_test = np.zeros((3, 24))\n",
    "vals_test = np.arange(24)\n",
    "\n",
    "counter = 0\n",
    "for i in range(3):\n",
    "    for j in range(4):\n",
    "        for k in range(2):\n",
    "            idx_test[0][counter] = i\n",
    "            idx_test[1][counter] = j\n",
    "            idx_test[2][counter] = k\n",
    "            counter += 1\n",
    "            "
   ]
  },
  {
   "cell_type": "code",
   "execution_count": null,
   "metadata": {},
   "outputs": [],
   "source": [
    "unfold(idx_test, vals_test, shape_test, 0).A"
   ]
  },
  {
   "cell_type": "code",
   "execution_count": null,
   "metadata": {},
   "outputs": [],
   "source": [
    "unfold(idx_test, vals_test, shape_test, 1).A"
   ]
  },
  {
   "cell_type": "code",
   "execution_count": null,
   "metadata": {},
   "outputs": [],
   "source": [
    "unfold(idx_test, vals_test, shape_test, 2).A"
   ]
  },
  {
   "cell_type": "markdown",
   "metadata": {},
   "source": [
    "# Positional TF"
   ]
  },
  {
   "cell_type": "markdown",
   "metadata": {},
   "source": [
    " ! ! ! !Based on [this paper](https://arxiv.org/pdf/2212.05720)\n",
    " \n",
    " ! ! ! !There also exists an implementation on [GitHub](https://github.com/recspert/SATF)"
   ]
  },
  {
   "cell_type": "code",
   "execution_count": 22,
   "metadata": {},
   "outputs": [],
   "source": [
    "def random_orthonormal(d1, d2, rng):\n",
    "    assert d1 >= d2, 'The matrix is not tall, d1 < d2'\n",
    "    \n",
    "    # builds a random matrix of size (d1, d2) with orthonormal columns\n",
    "    A = rng.random((d1, d2))\n",
    "    Q, _ = np.linalg.qr(A)\n",
    "    return Q"
   ]
  },
  {
   "cell_type": "code",
   "execution_count": null,
   "metadata": {},
   "outputs": [],
   "source": [
    "M = random_orthonormal(4, 2, np.random.default_rng(0))\n",
    "print(M)\n",
    "print(M.T @ M)"
   ]
  },
  {
   "cell_type": "markdown",
   "metadata": {},
   "source": [
    "$$\n",
    "\\mathcal{X} = \\mathcal{R} \\times_3 A^T = \\mathcal{G} \\times_1 U \\times_2 V \\times_3 W\n",
    "$$"
   ]
  },
  {
   "cell_type": "markdown",
   "metadata": {},
   "source": [
    "## mode-1\n",
    "\n",
    "$$\n",
    "\\mathcal{Y} = \\mathcal{X} \\times_2 V^\\top \\times_3 W^\\top = \\mathcal{R} \\times_3 A^T \\times_2 V^\\top \\times_3 W^\\top = \\mathcal{R} \\times_2 V^\\top \\times_3 (AW)^\\top\n",
    "$$\n",
    "\n",
    "Mode-1 unfolding of the tensor $\\mathcal{Y}$:\n",
    "$$\n",
    "\\textbf{Y}_{(1)} = \\textbf{R}_{(1)}  \\left[(AW)^\\top \\bigotimes V^\\top\\right]^\\top = \\textbf{R}_{(1)}  \\left[(AW) \\bigotimes V\\right]\n",
    "$$\n",
    "\n",
    "To compute the SVD of mode-1 unfolding, we do not need to form the matrix explicitly, we just can compute the left and right matvecs: $\\textbf{Y}_{(1)}q$ and $\\textbf{Y}_{(1)}^\\top q$, and define them as functions of $q$.\n",
    "\n",
    "### Right matvec\n",
    "$$\n",
    "\\textbf{Y}_{(1)}q = \\textbf{R}_{(1)}  \\left[(AW) \\bigotimes V\\right] q = \n",
    "$$\n",
    "$$\n",
    "= \\textbf{R}_{(1)}  \\left[(AW) \\bigotimes V\\right] \\text{vec}(Q) =\n",
    "$$\n",
    "\n",
    "Here we use the following identity $(A \\bigotimes B) \\text{vec}(X) = \\text{vec}(BXA^\\top)$\n",
    "$$\n",
    "= \\textbf{R}_{(1)} \\text{vec}(VQ (AW)^\\top)\n",
    "$$\n",
    "\n",
    "### Left matvec\n",
    "$$\n",
    "\\textbf{Y}_{(1)}^\\top q = \\left[(AW) \\bigotimes V\\right]^\\top \\textbf{R}_{(1)}^\\top q = \n",
    "$$\n",
    "$$\n",
    "= \\left[(AW)^\\top \\bigotimes V^\\top\\right] \\text{vec}(\\hat{Q}) =\n",
    "$$\n",
    "$$\n",
    "= \\text{vec}(V^\\top \\hat{Q} AW)\n",
    "$$\n"
   ]
  },
  {
   "cell_type": "markdown",
   "metadata": {},
   "source": [
    "## mode-2\n",
    "\n",
    "$$\n",
    "\\mathcal{Y} = \\mathcal{X} \\times_1 U^\\top \\times_3 W^\\top = \\mathcal{R} \\times_3 A^T \\times_1 U^\\top \\times_3 W^\\top = \\mathcal{R} \\times_1 U^\\top \\times_3 (AW)^\\top\n",
    "$$\n",
    "\n",
    "Mode-2 unfolding of the tensor $\\mathcal{Y}$:\n",
    "$$\n",
    "\\textbf{Y}_{(2)} = \\textbf{R}_{(2)}  \\left[(AW)^\\top \\bigotimes U^\\top\\right]^\\top = \\textbf{R}_{(2)}  \\left[(AW) \\bigotimes U\\right]\n",
    "$$\n",
    "\n",
    "### Right matvec\n",
    "$$\n",
    "\\textbf{Y}_{(2)}q = \\textbf{R}_{(2)}  \\left[(AW) \\bigotimes U\\right] q = \n",
    "$$\n",
    "$$\n",
    "= \\textbf{R}_{(2)}  \\left[(AW) \\bigotimes U\\right] \\text{vec}(Q) =\n",
    "$$\n",
    "$$\n",
    "= \\textbf{R}_{(2)} \\text{vec}(UQ (AW)^\\top)\n",
    "$$\n",
    "\n",
    "### Left matvec\n",
    "$$\n",
    "\\textbf{Y}_{(2)}^\\top q = \\left[(AW) \\bigotimes U\\right]^\\top \\textbf{R}_{(2)}^\\top q = \n",
    "$$\n",
    "$$\n",
    "= \\left[(AW)^\\top \\bigotimes U^\\top\\right] \\text{vec}(\\hat{Q}) =\n",
    "$$\n",
    "$$\n",
    "= \\text{vec}(U^\\top \\hat{Q} AW)\n",
    "$$\n"
   ]
  },
  {
   "cell_type": "markdown",
   "metadata": {},
   "source": [
    "## mode-3\n",
    "\n",
    "$$\n",
    "\\mathcal{Y} = \\mathcal{X} \\times_1 U^\\top \\times_2 V^\\top = \\mathcal{R} \\times_3 A^T \\times_1 U^\\top \\times_2 V^\\top = \\mathcal{R} \\times_1 U^\\top \\times_2 V^\\top \\times_3 A^\\top\n",
    "$$\n",
    "\n",
    "Mode-3 unfolding of the tensor $\\mathcal{Y}$:\n",
    "$$\n",
    "\\textbf{Y}_{(3)} = A^\\top \\textbf{R}_{(3)}  \\left[V^\\top \\bigotimes U^\\top\\right]^\\top = A^\\top\\textbf{R}_{(3)}  \\left[V \\bigotimes U\\right]\n",
    "$$\n",
    "\n",
    "### Right matvec\n",
    "$$\n",
    "\\textbf{Y}_{(3)}q = A^\\top \\textbf{R}_{(3)}  \\left(V \\bigotimes U\\right) q = \n",
    "$$\n",
    "$$\n",
    "= A^\\top \\textbf{R}_{(3)}  \\left(V \\bigotimes U\\right) \\text{vec}(Q) =\n",
    "$$\n",
    "$$\n",
    "= A^\\top \\textbf{R}_{(3)} \\text{vec}(UQ V^\\top)\n",
    "$$\n",
    "\n",
    "### Left matvec\n",
    "$$\n",
    "\\textbf{Y}_{(3)}^\\top q = \\left(V \\bigotimes U\\right)^\\top \\textbf{R}_{(3)}^\\top A q = \n",
    "$$\n",
    "$$\n",
    "= \\left(V^\\top \\bigotimes U^\\top\\right) \\text{vec}(\\hat{Q}) =\n",
    "$$\n",
    "$$\n",
    "= \\text{vec}(U^\\top \\hat{Q} V)\n",
    "$$\n"
   ]
  },
  {
   "cell_type": "markdown",
   "metadata": {},
   "source": [
    "Based on these calculations we can create [Linear Operators](https://docs.scipy.org/doc/scipy/reference/generated/scipy.sparse.linalg.LinearOperator.html) for each mode and type of matvec to compute [SVD](https://docs.scipy.org/doc/scipy/reference/generated/scipy.sparse.linalg.svds.html)."
   ]
  },
  {
   "cell_type": "code",
   "execution_count": 24,
   "metadata": {},
   "outputs": [],
   "source": [
    "from scipy.sparse.linalg import svds, LinearOperator\n",
    "from scipy.sparse import csr_matrix, eye, diags\n",
    "from scipy.linalg import solve_triangular\n",
    "\n",
    "\n",
    "class PositionalTF:\n",
    "    def __init__(self, config) -> None:\n",
    "        self.config = config\n",
    "        self.rng = np.random.default_rng(seed=config['seed'])\n",
    "        \n",
    "        self.n_iter = config['n_iter']\n",
    "        \n",
    "        self.U = random_orthonormal(config['n_users'], config['dim_u'], self.rng) # user factor\n",
    "        self.V = random_orthonormal(config['n_items'], config['dim_i'], self.rng) # item factor\n",
    "        self.W = random_orthonormal(config['seq_len'], config['dim_k'], self.rng) # pos factor\n",
    "        \n",
    "        # attention matrix\n",
    "        self.A = ...\n",
    "        \n",
    "        # precompute for convenience\n",
    "        self.AW = self.A @ self.W\n",
    "        \n",
    "    def matvec_seq(self, q):\n",
    "        # return the product of mode-3 unfolding with vector q\n",
    "        \n",
    "        return ...\n",
    "    def rmatvec_seq(self, q):\n",
    "        # return the product of mode-3 unfolding transposed with vector q\n",
    "        \n",
    "        return ...\n",
    "\n",
    "    def matvec_user(self, q):\n",
    "        Q = q.reshape((self.V.shape[1], self.W.shape[1]))\n",
    "        vector = (self.V @ Q @ self.AW.T).reshape(-1)\n",
    "        return self.unfoldings[0].dot(vector)\n",
    "    def rmatvec_user(self, q):\n",
    "        Q = (self.unfoldings[0].T.dot(q)).reshape((self.V.shape[0], self.A.shape[0]))\n",
    "        return (self.V.T @ Q @ self.AW).reshape(-1)\n",
    "\n",
    "    def matvec_item(self, q):\n",
    "        Q = q.reshape((self.U.shape[1], self.W.shape[1]))\n",
    "        vector = (self.U @ Q @ self.AW.T).reshape(-1)\n",
    "        return self.unfoldings[1].dot(vector)\n",
    "    def rmatvec_item(self, q):\n",
    "        Q = (self.unfoldings[1].T.dot(q)).reshape((self.U.shape[0], self.A.shape[0]))\n",
    "        return (self.U.T @ Q @ self.AW).reshape(-1)\n",
    "\n",
    "    def unfolding(self, idx, vals, shape):\n",
    "        self.unfoldings = []\n",
    "        for mode in range(len(shape)):\n",
    "            self.unfoldings.append(unfold(idx, vals, shape, mode))\n",
    "\n",
    "    def hooi(self, n_iter, verbose=False):\n",
    "        if verbose:\n",
    "            iterator = tqdm\n",
    "        else:\n",
    "            iterator = lambda x: x\n",
    "        core_norms = []\n",
    "        for iter in iterator(range(n_iter)):\n",
    "            linop_u = LinearOperator(\n",
    "                shape=(self.config['n_users'], self.config['dim_i'] * self.config['dim_k']),\n",
    "                matvec=self.matvec_user,\n",
    "                rmatvec=self.rmatvec_user\n",
    "                )\n",
    "            factor_u, sigma_u, _ = svds(linop_u, self.config['dim_u'], return_singular_vectors=\"u\")\n",
    "            self.U = factor_u[:, np.argsort(-sigma_u)]\n",
    "\n",
    "            linop_v = LinearOperator(\n",
    "                shape=(self.config['n_items'], self.config['dim_u'] * self.config['dim_k']),\n",
    "                matvec=self.matvec_item,\n",
    "                rmatvec=self.rmatvec_item\n",
    "                )\n",
    "            factor_v, sigma_v, _ = svds(linop_v, self.config['dim_i'], return_singular_vectors=\"u\")\n",
    "            self.V = factor_v[:, np.argsort(-sigma_v)]\n",
    "\n",
    "            linop_w = LinearOperator(\n",
    "                shape=...,\n",
    "                matvec=...,\n",
    "                rmatvec=...\n",
    "                )\n",
    "            factor_w, sigma_w, _ = svds(...,\n",
    "                                        ...,\n",
    "                                        return_singular_vectors=\"u\")\n",
    "            self.W = factor_w[:, np.argsort(-sigma_w)]\n",
    "            \n",
    "            # update AW with new W\n",
    "            self.AW = self.A @ self.W\n",
    "            \n",
    "            # save core norms for future analysis\n",
    "            core_norms.append(np.linalg.norm(sigma_u))\n",
    "            core_norms.append(np.linalg.norm(sigma_v))\n",
    "            core_norms.append(np.linalg.norm(sigma_w))\n",
    "\n",
    "        return core_norms\n",
    "\n",
    "    def build(self, data, data_description, verbose=False):\n",
    "        n_users = data_description[\"n_users\"]\n",
    "        n_items = data_description[\"n_items\"]\n",
    "        max_pos = data_description[\"n_pos\"]\n",
    "        shape = (n_users, n_items, max_pos)\n",
    "        \n",
    "        # here we construct the tensor \n",
    "        # precompute unfoldings along each mode\n",
    "        # perform HOOI algorithm\n",
    "    \n",
    "        ...\n",
    "\n",
    "    def recommend(self, warm_data, data_description):\n",
    "        # P - user's history of interactions, n_items x n_pos\n",
    "        # toprecs(P, n) = argmax(VV^T P SAW w'_K)\n",
    "        # A^TW' = W\n",
    "        \n",
    "        # since A is triangular, \n",
    "        # the system A^T W_hat = W \n",
    "        # can be solved efficiently\n",
    "        W_hat = solve_triangular(self.A.T, self.W)\n",
    "\n",
    "        # shift operator for sequences\n",
    "        S = ...\n",
    "\n",
    "        projector = ...\n",
    "\n",
    "        # create positional tensor from warm data\n",
    "        idx_warm, val_warm = generate_tensor(warm_data, data_description, rebase_users=True)\n",
    "\n",
    "        preferences = ...\n",
    "\n",
    "        # we calculated the preferences\n",
    "        # containing sequential information,\n",
    "        # now the regular folding-in\n",
    "        scores = ...\n",
    "\n",
    "        return scores"
   ]
  },
  {
   "cell_type": "code",
   "execution_count": 25,
   "metadata": {},
   "outputs": [],
   "source": [
    "data_description = dict(\n",
    "    users = data_index['users'].name,\n",
    "    items = data_index['items'].name,\n",
    "    feedback = 'rating',\n",
    "    positions = 'pos',\n",
    "    n_users = len(data_index['users']),\n",
    "    n_items = len(data_index['items']),\n",
    "    n_pos = n_pos\n",
    ")"
   ]
  },
  {
   "cell_type": "code",
   "execution_count": 26,
   "metadata": {},
   "outputs": [],
   "source": [
    "def postf_model_build(config, data, data_description, verbose=False):\n",
    "    model = PositionalTF(config)\n",
    "    model.build(data, data_description, verbose=verbose)\n",
    "    \n",
    "    return model"
   ]
  },
  {
   "cell_type": "code",
   "execution_count": 27,
   "metadata": {},
   "outputs": [],
   "source": [
    "postf_config = {\n",
    "    'n_items':data_description['n_items'],\n",
    "    'n_users':data_description['n_users'],\n",
    "    'seq_len':data_description['n_pos'],\n",
    "    'dim_u':30, # rank of decomposition in user mode\n",
    "    'dim_i':30, # rank of decomposition in item mode\n",
    "    'dim_k':5,  # rank of decomposition in sequence mode\n",
    "    'attn_deg':1.0, # decay of attention matrix elements\n",
    "    'n_iter':6, # number of hooi iterations\n",
    "    'seed':2024 # reproducibility\n",
    "}"
   ]
  },
  {
   "cell_type": "code",
   "execution_count": null,
   "metadata": {},
   "outputs": [],
   "source": [
    "model = postf_model_build(postf_config, training_pos, data_description, verbose=True)"
   ]
  },
  {
   "cell_type": "code",
   "execution_count": null,
   "metadata": {},
   "outputs": [],
   "source": [
    "scores = model.recommend(testset_pos, data_description)\n",
    "downvote_seen_items(scores, testset_pos, data_description)\n",
    "recs = topn_recommendations(scores)\n",
    "model_evaluate(recs, holdout, data_description)"
   ]
  },
  {
   "cell_type": "code",
   "execution_count": null,
   "metadata": {},
   "outputs": [],
   "source": [
    "model.core_norms"
   ]
  },
  {
   "cell_type": "code",
   "execution_count": null,
   "metadata": {},
   "outputs": [],
   "source": [
    "import matplotlib.pyplot as plt\n",
    "\n",
    "plt.plot(model.core_norms)\n",
    "plt.scatter(np.arange(2, postf_config['n_iter'] * 3, 3), model.core_norms[2::3], label='HOOI Iteration')\n",
    "\n",
    "plt.ylabel('Core norm')\n",
    "plt.xlabel('HOOI step (3 steps == 1 iteration)')\n",
    "plt.xticks(np.arange(0, postf_config['n_iter'] * 3))\n",
    "plt.legend()\n",
    "plt.show()"
   ]
  },
  {
   "cell_type": "code",
   "execution_count": null,
   "metadata": {},
   "outputs": [],
   "source": [
    "relative_increase = [(model.core_norms[i + 3] - model.core_norms[i]) / model.core_norms[i] for i in range(2, 3 * postf_config['n_iter'] - 1, 3)]\n",
    "\n",
    "for i in range(len(relative_increase) - 1):\n",
    "    print(f'iter {i} - iter {i + 1}: {relative_increase[i]:.5f}')"
   ]
  },
  {
   "cell_type": "markdown",
   "metadata": {},
   "source": [
    "We can do early stopping by controlling the norm of the core tensor. If the relative change of norm of the core between to consecutive HOOI iterations is less than some *threshold*, we stop the iterations."
   ]
  },
  {
   "cell_type": "code",
   "execution_count": null,
   "metadata": {},
   "outputs": [],
   "source": [
    "fig, axes = plt.subplots(nrows=1, ncols=3, figsize=(15,5), tight_layout=True)\n",
    "\n",
    "axes[0].scatter(np.arange(model.U.shape[0]), np.linalg.norm(model.U, axis=1), label='U norm', s=1)\n",
    "axes[0].legend()\n",
    "axes[1].scatter(np.arange(model.V.shape[0]), np.linalg.norm(model.V, axis=1), label='V norm', s=1)\n",
    "axes[1].legend()\n",
    "axes[2].scatter(np.arange(model.W.shape[0]), np.linalg.norm(model.W, axis=1), label='W norm', s=1)\n",
    "axes[2].legend()\n",
    "\n",
    "plt.show()"
   ]
  },
  {
   "cell_type": "code",
   "execution_count": null,
   "metadata": {},
   "outputs": [],
   "source": [
    "postf_config_attn = {\n",
    "    'n_items':data_description['n_items'],\n",
    "    'n_users':data_description['n_users'],\n",
    "    'seq_len':data_description['n_pos'],\n",
    "    'dim_u':30, # rank of decomposition in user mode\n",
    "    'dim_i':30, # rank of decomposition in item mode\n",
    "    'dim_k':5,  # rank of decomposition in sequence mode\n",
    "    'attn_deg':1.0, # decay of attention matrix elements\n",
    "    'n_iter':4, # number of hooi iterations\n",
    "    'seed':2024 # reproducibility\n",
    "}\n",
    "\n",
    "factors = {}\n",
    "\n",
    "for attn_deg in tqdm([3.0, 2.0, 1.0, 0.0]):\n",
    "    postf_config_attn['attn_deg'] = attn_deg\n",
    "    model = postf_model_build(postf_config_attn, training_pos, data_description, verbose=False)\n",
    "    factors[attn_deg] = np.copy(model.W)"
   ]
  },
  {
   "cell_type": "code",
   "execution_count": 35,
   "metadata": {},
   "outputs": [
    {
     "data": {
      "text/plain": [
       "<matplotlib.legend.Legend at 0x145ab8e20>"
      ]
     },
     "execution_count": 35,
     "metadata": {},
     "output_type": "execute_result"
    },
    {
     "data": {
      "image/png": "[encoded data removed]",
      "text/plain": [
       "<Figure size 640x480 with 1 Axes>"
      ]
     },
     "metadata": {},
     "output_type": "display_data"
    }
   ],
   "source": [
    "for attn_deg in factors:\n",
    "    plt.scatter(np.arange(factors[attn_deg].shape[0]), np.linalg.norm(factors[attn_deg], axis=1), label=attn_deg, s=1)\n",
    "plt.xlabel('Position')\n",
    "plt.ylabel('Norm')\n",
    "plt.legend()\n",
    "plt.show()\n"
   ]
  },
  {
   "cell_type": "code",
   "execution_count": 36,
   "metadata": {},
   "outputs": [
    {
     "data": {
      "text/plain": [
       "<matplotlib.legend.Legend at 0x15dd36460>"
      ]
     },
     "execution_count": 36,
     "metadata": {},
     "output_type": "execute_result"
    },
    {
     "data": {
      "image/png": "[encoded data removed]",
      "text/plain": [
       "<Figure size 640x480 with 1 Axes>"
      ]
     },
     "metadata": {},
     "output_type": "display_data"
    }
   ],
   "source": [
    "for attn_deg in factors:\n",
    "    plt.plot(np.arange(factors[attn_deg].shape[0]), np.linalg.norm(factors[attn_deg], axis=1), label=attn_deg)\n",
    "plt.xlabel('Position')\n",
    "plt.ylabel('Norm')\n",
    "plt.legend()\n",
    "plt.show()\n"
   ]
  },
  {
   "cell_type": "code",
   "execution_count": null,
   "metadata": {},
   "outputs": [],
   "source": []
  },
  {
   "cell_type": "code",
   "execution_count": null,
   "metadata": {},
   "outputs": [],
   "source": []
  }
 ],
 "metadata": {
  "kernelspec": {
   "display_name": "Python 3",
   "language": "python",
   "name": "python3"
  },
  "language_info": {
   "codemirror_mode": {
    "name": "ipython",
    "version": 3
   },
   "file_extension": ".py",
   "mimetype": "text/x-python",
   "name": "python",
   "nbconvert_exporter": "python",
   "pygments_lexer": "ipython3",
   "version": "3.9.18"
  },
  "orig_nbformat": 4
 },
 "nbformat": 4,
 "nbformat_minor": 2
}
