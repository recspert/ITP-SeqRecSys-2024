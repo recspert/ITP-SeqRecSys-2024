{
  "cells": [
    {
      "cell_type": "markdown",
      "metadata": {
        "id": "qqYGgEBoKF9F"
      },
      "source": [
        "# Setting up Colab environment"
      ]
    },
    {
      "cell_type": "code",
      "execution_count": 1,
      "metadata": {
        "colab": {
          "base_uri": "https://localhost:8080/"
        },
        "id": "Jh6zoBplKF9G",
        "outputId": "3ace57b4-2e34-4cca-a310-a9f2a02601f4"
      },
      "outputs": [
        {
          "name": "stdout",
          "output_type": "stream",
          "text": [
            "Cloning into 'ITP-SeqRecSys-2024'...\n",
            "remote: Enumerating objects: 74, done.\u001b[K\n",
            "remote: Counting objects: 100% (74/74), done.\u001b[K\n",
            "remote: Compressing objects: 100% (54/54), done.\u001b[K\n",
            "remote: Total 74 (delta 26), reused 58 (delta 14), pack-reused 0 (from 0)\u001b[K\n",
            "Receiving objects: 100% (74/74), 473.55 KiB | 1.98 MiB/s, done.\n",
            "Resolving deltas: 100% (26/26), done.\n"
          ]
        }
      ],
      "source": [
        "import os\n",
        "username = 'recspert'\n",
        "repo = 'ITP-SeqRecSys-2024'\n",
        "\n",
        "# remove local directory if it already exists\n",
        "if os.path.isdir(repo):\n",
        "    !rm -rf {repo}\n",
        "\n",
        "!git clone https://github.com/{username}/{repo}.git"
      ]
    },
    {
      "cell_type": "code",
      "execution_count": 2,
      "metadata": {
        "colab": {
          "base_uri": "https://localhost:8080/"
        },
        "id": "i4nuoPohKF9H",
        "outputId": "d2dde974-62ce-40f9-c9f9-c9a6456cf7d2"
      },
      "outputs": [
        {
          "name": "stdout",
          "output_type": "stream",
          "text": [
            "Collecting polara\n",
            "  Cloning https://github.com/evfro/polara.git (to revision develop) to /tmp/pip-install-d77j3pke/polara_74afa7a761b046a3b65f512891ea3bbc\n",
            "  Running command git clone --filter=blob:none --quiet https://github.com/evfro/polara.git /tmp/pip-install-d77j3pke/polara_74afa7a761b046a3b65f512891ea3bbc\n",
            "  Running command git checkout -b develop --track origin/develop\n",
            "  Switched to a new branch 'develop'\n",
            "  Branch 'develop' set up to track remote branch 'develop' from 'origin'.\n",
            "  Resolved https://github.com/evfro/polara.git to commit ef7a5360e3f9793f4f0fdd4f31e32399d2e52069\n",
            "  Preparing metadata (setup.py) ... \u001b[?25l\u001b[?25hdone\n",
            "Building wheels for collected packages: polara\n",
            "  Building wheel for polara (setup.py) ... \u001b[?25l\u001b[?25hdone\n",
            "  Created wheel for polara: filename=polara-0.7.2.dev0-py3-none-any.whl size=89422 sha256=9320c8a6a206749626f2e956b8cf4eb8f137c738b555c73767c20dcd3c739637\n",
            "  Stored in directory: /tmp/pip-ephem-wheel-cache-c2a1yhgc/wheels/3f/3a/1f/42058978e585b23c384652846b96b72870f3c8c12976cdac50\n",
            "Successfully built polara\n",
            "Installing collected packages: polara\n",
            "Successfully installed polara-0.7.2.dev0\n"
          ]
        }
      ],
      "source": [
        "!pip install --no-cache-dir --upgrade git+https://github.com/evfro/polara.git@develop#egg=polara"
      ]
    },
    {
      "cell_type": "code",
      "execution_count": 3,
      "metadata": {
        "colab": {
          "base_uri": "https://localhost:8080/"
        },
        "id": "WpTWjqwaKF9H",
        "outputId": "bbacd042-d4cd-488a-8699-ed5c32b2d321"
      },
      "outputs": [
        {
          "name": "stdout",
          "output_type": "stream",
          "text": [
            "/content/ITP-SeqRecSys-2024\n",
            "/content\n"
          ]
        }
      ],
      "source": [
        "from math import ceil\n",
        "\n",
        "import pandas as pd\n",
        "import numpy as np\n",
        "from tqdm.auto import tqdm\n",
        "\n",
        "import matplotlib.pyplot as plt\n",
        "\n",
        "import torch\n",
        "import torch.nn as nn\n",
        "import torch.nn.functional as F\n",
        "from torch.utils.data import Dataset, DataLoader\n",
        "\n",
        "from numba.typed import List\n",
        "from numba import njit\n",
        "from random import seed as set_seed\n",
        "\n",
        "from time import time\n",
        "\n",
        "from polara import get_movielens_data\n",
        "from polara.preprocessing.dataframes import reindex, leave_one_out\n",
        "\n",
        "# navigating to cloned repo directory in Colab\n",
        "%cd {repo}\n",
        "from source.dataprep.dataprep import split_data_global_timepoint\n",
        "from source.evaluation.evaluation import topn_recommendations, model_evaluate, downvote_seen_items\n",
        "%cd -"
      ]
    },
    {
      "cell_type": "code",
      "execution_count": 4,
      "metadata": {
        "id": "qexICHN-KF9H"
      },
      "outputs": [],
      "source": [
        "def fix_torch_seed(seed):\n",
        "    torch.manual_seed(seed)\n",
        "    torch.cuda.manual_seed_all(seed)"
      ]
    },
    {
      "cell_type": "markdown",
      "metadata": {
        "id": "rMe9caTGKF9H"
      },
      "source": [
        "# Preparing data"
      ]
    },
    {
      "cell_type": "code",
      "execution_count": 5,
      "metadata": {
        "id": "oYAdLV76CipP"
      },
      "outputs": [],
      "source": [
        "data = get_movielens_data(include_time=True)\n",
        "data_description = {\n",
        "    'users':'userid',\n",
        "    'items':'movieid',\n",
        "    'feedback':'rating',\n",
        "    'timestamp':'timestamp'\n",
        "}"
      ]
    },
    {
      "cell_type": "code",
      "execution_count": 6,
      "metadata": {
        "id": "Wdka5BVAB8XJ"
      },
      "outputs": [],
      "source": [
        "training, testset_valid_, holdout_valid_, testset_, holdout_, data_index, data_description = split_data_global_timepoint(data=data, data_description=data_description)"
      ]
    },
    {
      "cell_type": "markdown",
      "metadata": {
        "id": "PahNxVL8KF9K"
      },
      "source": [
        "Let's focus on validation part. For convenience, let us also reindex the test users."
      ]
    },
    {
      "cell_type": "code",
      "execution_count": 7,
      "metadata": {
        "id": "NwQ7VYxVKF9K"
      },
      "outputs": [],
      "source": [
        "userid = data_index['users'].name\n",
        "test_users = pd.Index(\n",
        "    # ensure test users are the same across testing data\n",
        "    np.intersect1d(\n",
        "        testset_valid_[userid].unique(),\n",
        "        holdout_valid_[userid].unique()\n",
        "    )\n",
        ")\n",
        "testset_valid = (\n",
        "    testset_valid_\n",
        "    # reindex warm-start users for convenience\n",
        "    .assign(**{userid: lambda x: test_users.get_indexer(x[userid])})\n",
        "    .query(f'{userid} >= 0')\n",
        "    .sort_values('userid')\n",
        ")\n",
        "holdout_valid = (\n",
        "    holdout_valid_\n",
        "    # reindex warm-start users for convenience\n",
        "    .assign(**{userid: lambda x: test_users.get_indexer(x[userid])})\n",
        "    .query(f'{userid} >= 0')\n",
        "    .sort_values('userid')\n",
        ")"
      ]
    },
    {
      "cell_type": "code",
      "execution_count": 8,
      "metadata": {
        "colab": {
          "base_uri": "https://localhost:8080/",
          "height": 207
        },
        "id": "eTKtYWnqJzK2",
        "outputId": "5bc47ba6-a718-4aac-a475-120cee7d10c1"
      },
      "outputs": [
        {
          "data": {
            "text/html": [
              "<div>\n",
              "<style scoped>\n",
              "    .dataframe tbody tr th:only-of-type {\n",
              "        vertical-align: middle;\n",
              "    }\n",
              "\n",
              "    .dataframe tbody tr th {\n",
              "        vertical-align: top;\n",
              "    }\n",
              "\n",
              "    .dataframe thead th {\n",
              "        text-align: right;\n",
              "    }\n",
              "</style>\n",
              "<table border=\"1\" class=\"dataframe\">\n",
              "  <thead>\n",
              "    <tr style=\"text-align: right;\">\n",
              "      <th></th>\n",
              "      <th>0</th>\n",
              "    </tr>\n",
              "  </thead>\n",
              "  <tbody>\n",
              "    <tr>\n",
              "      <th>userid</th>\n",
              "      <td>736</td>\n",
              "    </tr>\n",
              "    <tr>\n",
              "      <th>movieid</th>\n",
              "      <td>551</td>\n",
              "    </tr>\n",
              "    <tr>\n",
              "      <th>rating</th>\n",
              "      <td>5</td>\n",
              "    </tr>\n",
              "    <tr>\n",
              "      <th>timestamp</th>\n",
              "      <td>736</td>\n",
              "    </tr>\n",
              "  </tbody>\n",
              "</table>\n",
              "</div><br><label><b>dtype:</b> int64</label>"
            ],
            "text/plain": [
              "userid       736\n",
              "movieid      551\n",
              "rating         5\n",
              "timestamp    736\n",
              "dtype: int64"
            ]
          },
          "execution_count": 8,
          "metadata": {},
          "output_type": "execute_result"
        }
      ],
      "source": [
        "holdout_valid.nunique()"
      ]
    },
    {
      "cell_type": "code",
      "execution_count": 9,
      "metadata": {
        "id": "w7KlCCtikaHZ"
      },
      "outputs": [],
      "source": [
        "testset = (\n",
        "    testset_\n",
        "    # reindex warm-start users for convenience\n",
        "    .assign(**{userid: lambda x: test_users.get_indexer(x[userid])})\n",
        "    .query(f'{userid} >= 0')\n",
        "    .sort_values('userid')\n",
        ")\n",
        "holdout = (\n",
        "    holdout_\n",
        "    # reindex warm-start users for convenience\n",
        "    .assign(**{userid: lambda x: test_users.get_indexer(x[userid])})\n",
        "    .query(f'{userid} >= 0')\n",
        "    .sort_values('userid')\n",
        ")"
      ]
    },
    {
      "cell_type": "code",
      "execution_count": 10,
      "metadata": {
        "colab": {
          "base_uri": "https://localhost:8080/",
          "height": 207
        },
        "id": "Z-NR13IdKyNw",
        "outputId": "74c872a0-38ae-4ace-8121-b7031cbba060"
      },
      "outputs": [
        {
          "data": {
            "text/html": [
              "<div>\n",
              "<style scoped>\n",
              "    .dataframe tbody tr th:only-of-type {\n",
              "        vertical-align: middle;\n",
              "    }\n",
              "\n",
              "    .dataframe tbody tr th {\n",
              "        vertical-align: top;\n",
              "    }\n",
              "\n",
              "    .dataframe thead th {\n",
              "        text-align: right;\n",
              "    }\n",
              "</style>\n",
              "<table border=\"1\" class=\"dataframe\">\n",
              "  <thead>\n",
              "    <tr style=\"text-align: right;\">\n",
              "      <th></th>\n",
              "      <th>0</th>\n",
              "    </tr>\n",
              "  </thead>\n",
              "  <tbody>\n",
              "    <tr>\n",
              "      <th>userid</th>\n",
              "      <td>736</td>\n",
              "    </tr>\n",
              "    <tr>\n",
              "      <th>movieid</th>\n",
              "      <td>574</td>\n",
              "    </tr>\n",
              "    <tr>\n",
              "      <th>rating</th>\n",
              "      <td>5</td>\n",
              "    </tr>\n",
              "    <tr>\n",
              "      <th>timestamp</th>\n",
              "      <td>736</td>\n",
              "    </tr>\n",
              "  </tbody>\n",
              "</table>\n",
              "</div><br><label><b>dtype:</b> int64</label>"
            ],
            "text/plain": [
              "userid       736\n",
              "movieid      574\n",
              "rating         5\n",
              "timestamp    736\n",
              "dtype: int64"
            ]
          },
          "execution_count": 10,
          "metadata": {},
          "output_type": "execute_result"
        }
      ],
      "source": [
        "holdout.nunique()"
      ]
    },
    {
      "cell_type": "code",
      "execution_count": 11,
      "metadata": {
        "id": "v3NerS7eKF9K"
      },
      "outputs": [],
      "source": [
        "assert holdout_valid.set_index('userid')['timestamp'].ge(\n",
        "    testset_valid\n",
        "    .groupby('userid')\n",
        "    ['timestamp'].max()\n",
        ").all()"
      ]
    },
    {
      "cell_type": "code",
      "execution_count": 12,
      "metadata": {
        "colab": {
          "base_uri": "https://localhost:8080/"
        },
        "id": "ZFt44BcdKF9L",
        "outputId": "35fead9a-f9cf-4ae1-f3ed-eb547289f2fa"
      },
      "outputs": [
        {
          "data": {
            "text/plain": [
              "{'users': 'userid',\n",
              " 'items': 'movieid',\n",
              " 'order': 'timestamp',\n",
              " 'n_users': 5227,\n",
              " 'n_items': 3652}"
            ]
          },
          "execution_count": 12,
          "metadata": {},
          "output_type": "execute_result"
        }
      ],
      "source": [
        "data_description = dict(\n",
        "    users = data_index['users'].name,\n",
        "    items = data_index['items'].name,\n",
        "    order = 'timestamp',\n",
        "    n_users = len(data_index['users']),\n",
        "    n_items = len(data_index['items']),\n",
        ")\n",
        "data_description"
      ]
    },
    {
      "cell_type": "markdown",
      "metadata": {
        "id": "Xu-2akKsKF9L"
      },
      "source": [
        "# Batch Sampler"
      ]
    },
    {
      "cell_type": "code",
      "execution_count": 13,
      "metadata": {
        "id": "4Warcm9oj7W8"
      },
      "outputs": [],
      "source": [
        "from random import randrange\n",
        "import numpy as np\n",
        "\n",
        "@njit(fastmath=True)\n",
        "def sample_unseen(sample_size, sampler_state, remaining, result):\n",
        "    \"\"\"\n",
        "    Sample a desired number of integers from a range (starting from zero)\n",
        "    excluding black-listed elements defined in sample state. Used with in\n",
        "    conjunction with `prime_sample_state` method, which initializes state.\n",
        "    Inspired by Fischer-Yates shuffle.\n",
        "    \"\"\"\n",
        "    # gradually sample from the decreased size range\n",
        "    for k in range(sample_size):\n",
        "        i = randrange(remaining) # Randomly select an index in the range of remaining items\n",
        "        result[k] = sampler_state.get(i, i) # Fetch item or assign i if not found in state\n",
        "        remaining -= 1 # Decrease the remaining number of items\n",
        "        sampler_state[i] = sampler_state.get(remaining, remaining)\n",
        "        sampler_state.pop(remaining, -1) # Remove the last item from the sampler state\n",
        "\n",
        "@njit(fastmath=True)\n",
        "def prime_sampler_state(n, exclude):\n",
        "    \"\"\"\n",
        "    Initialize state to be used in `sample_unseen_items`.\n",
        "    Ensures seen items are never sampled by placing them\n",
        "    outside of sampling region.\n",
        "    \"\"\"\n",
        "    # initialize typed numba dicts\n",
        "    state = {n: n}; state.pop(n)\n",
        "    track = {n: n}; track.pop(n)\n",
        "\n",
        "    n_pos = n - len(state) - 1\n",
        "    # reindex excluded items, placing them in the end\n",
        "    for i, item in enumerate(exclude):\n",
        "        pos = n_pos - i\n",
        "        x = track.get(item, item)\n",
        "        t = state.get(pos, pos)\n",
        "        state[x] = t\n",
        "        track[t] = x\n",
        "        state.pop(pos, n)\n",
        "        track.pop(item, n)\n",
        "    return state"
      ]
    },
    {
      "cell_type": "code",
      "execution_count": 14,
      "metadata": {
        "id": "ddHRkgtxisTm"
      },
      "outputs": [],
      "source": [
        "@njit\n",
        "def sample_without_rep(user_items, maxlen, pad_token, n_neg_samples, itemnum, seed):\n",
        "    # generate n_neg_samples in case of BCE loss\n",
        "    \n",
        "    seq = np.full(maxlen, pad_token, dtype=np.int32)\n",
        "    pos = np.full(maxlen, pad_token, dtype=np.int32)\n",
        "    neg = np.full((maxlen, n_neg_samples), pad_token, dtype=np.int32)\n",
        "\n",
        "    hist_items_counter = 1\n",
        "    nxt = user_items[-1]\n",
        "    idx = maxlen - 1\n",
        "\n",
        "    set_seed(seed)\n",
        "\n",
        "    ts_ = list(set(user_items))\n",
        "\n",
        "    for i in user_items[-2::-1]:\n",
        "        seq[idx] = i\n",
        "        pos[idx] = nxt\n",
        "\n",
        "        state = prime_sampler_state(itemnum, ts_)\n",
        "        remaining = itemnum - len(ts_)\n",
        "\n",
        "        sample_unseen(n_neg_samples, state, remaining, neg[idx])\n",
        "\n",
        "        nxt = i\n",
        "        idx -= 1\n",
        "        hist_items_counter += 1\n",
        "        if idx == -1:\n",
        "            break\n",
        "\n",
        "    neg = np.swapaxes(neg, 0, 1)\n",
        "    return seq, pos, neg\n",
        "\n",
        "def no_sample(user_items, maxlen, pad_token):\n",
        "    # return positive, leave negative empty\n",
        "    # used for CE and SCE\n",
        "    \n",
        "    seq = ...\n",
        "    pos = ...\n",
        "    neg = ...\n",
        "\n",
        "    return seq, pos, neg\n",
        "\n",
        "class SequentialDataset(Dataset):\n",
        "    def __init__(self, user_train, usernum, itemnum, maxlen, seed, n_neg_samples=1, sampling='without_rep', pad_token=None):\n",
        "        super().__init__()\n",
        "        self.user_train = user_train\n",
        "\n",
        "        self.valid_users = [user for user in range(usernum) if len(user_train.get(user, [])) > 1]\n",
        "\n",
        "        self.usernum = len(self.valid_users)\n",
        "\n",
        "        self.itemnum = itemnum\n",
        "        self.maxlen = maxlen\n",
        "        self.seed = seed\n",
        "        self.n_neg_samples = n_neg_samples\n",
        "        self.sampling = sampling\n",
        "\n",
        "        self.pad_token = pad_token\n",
        "\n",
        "        self.random_state = np.random.RandomState(self.seed)\n",
        "\n",
        "    def __len__(self):\n",
        "        return self.usernum\n",
        "\n",
        "    def __getitem__(self, idx):\n",
        "        user = self.valid_users[idx]\n",
        "        user_items = List()\n",
        "        [user_items.append(x) for x in self.user_train[user]]\n",
        "        \n",
        "        if self.sampling == 'without_rep':\n",
        "            seq, pos, neg = sample_without_rep(user_items, self.maxlen, self.pad_token, self.n_neg_samples, self.itemnum, self.random_state.randint(np.iinfo(int).min, np.iinfo(int).max))\n",
        "\n",
        "        elif self.sampling == 'no_sampling':\n",
        "            seq, pos, neg = no_sample(user_items, self.maxlen, self.pad_token)\n",
        "\n",
        "        return user, seq, pos, neg"
      ]
    },
    {
      "cell_type": "markdown",
      "metadata": {
        "id": "8ZTXNYdmKF9L"
      },
      "source": [
        "# SASRec model"
      ]
    },
    {
      "cell_type": "markdown",
      "metadata": {
        "id": "U0DeZnNBKF9L"
      },
      "source": [
        "The code is adapted from https://github.com/pmixer/SASRec.pytorch"
      ]
    },
    {
      "cell_type": "code",
      "execution_count": 15,
      "metadata": {
        "id": "SDi6J5iLBbcx"
      },
      "outputs": [],
      "source": [
        "class PointWiseFeedForward(nn.Module):\n",
        "    def __init__(self, hidden_units, dropout_rate):\n",
        "\n",
        "        super(PointWiseFeedForward, self).__init__()\n",
        "\n",
        "        self.conv1 = nn.Conv1d(hidden_units, hidden_units, kernel_size=1)\n",
        "        self.dropout1 = nn.Dropout(p=dropout_rate)\n",
        "        self.relu = nn.ReLU()\n",
        "        self.conv2 = nn.Conv1d(hidden_units, hidden_units, kernel_size=1)\n",
        "        self.dropout2 = nn.Dropout(p=dropout_rate)\n",
        "\n",
        "    def forward(self, inputs):\n",
        "        outputs = self.dropout2(self.conv2(self.relu(self.dropout1(self.conv1(inputs.transpose(-1, -2))))))\n",
        "        outputs = outputs.transpose(-1, -2) # as Conv1D requires (N, C, Length)\n",
        "        outputs += inputs\n",
        "        return outputs\n",
        "\n",
        "\n",
        "class SASRecBackBone(nn.Module):\n",
        "    def __init__(self, item_num, config):\n",
        "        super(SASRecBackBone, self).__init__()\n",
        "        self.item_num = item_num\n",
        "        self.pad_token = item_num\n",
        "\n",
        "        self.item_emb = nn.Embedding(self.item_num+1, config['hidden_units'], padding_idx=self.pad_token)\n",
        "        self.pos_emb = nn.Embedding(config['maxlen'], config['hidden_units'])\n",
        "        self.emb_dropout = nn.Dropout(p=config['dropout_rate'])\n",
        "\n",
        "        self.attention_layernorms = nn.ModuleList() # to be Q for self-attention\n",
        "        self.attention_layers = nn.ModuleList()\n",
        "        self.forward_layernorms = nn.ModuleList()\n",
        "        self.forward_layers = nn.ModuleList()\n",
        "        self.last_layernorm = nn.LayerNorm(config['hidden_units'], eps=1e-8)\n",
        "\n",
        "        for _ in range(config['num_blocks']):\n",
        "            new_attn_layernorm = nn.LayerNorm(config['hidden_units'], eps=1e-8)\n",
        "            self.attention_layernorms.append(new_attn_layernorm)\n",
        "            new_attn_layer =  nn.MultiheadAttention(\n",
        "                config['hidden_units'],config['num_heads'],config['dropout_rate']\n",
        "            )\n",
        "            self.attention_layers.append(new_attn_layer)\n",
        "\n",
        "            new_fwd_layernorm = nn.LayerNorm(config['hidden_units'], eps=1e-8)\n",
        "            self.forward_layernorms.append(new_fwd_layernorm)\n",
        "\n",
        "            new_fwd_layer = PointWiseFeedForward(config['hidden_units'], config['dropout_rate'])\n",
        "            self.forward_layers.append(new_fwd_layer)\n",
        "\n",
        "        fix_torch_seed(config['manual_seed'])\n",
        "        self.initialize()\n",
        "\n",
        "    def initialize(self):\n",
        "        for _, param in self.named_parameters():\n",
        "            try:\n",
        "                torch.nn.init.xavier_uniform_(param.data)\n",
        "            except:\n",
        "                pass # just ignore those failed init layers\n",
        "\n",
        "    def log2feats(self, log_seqs):\n",
        "        device = log_seqs.device\n",
        "        \n",
        "        seqs = ...\n",
        "\n",
        "        timeline_mask = log_seqs == self.pad_token\n",
        "        seqs *= ~timeline_mask.unsqueeze(-1) # broadcast in last dim\n",
        "\n",
        "        tl = seqs.shape[1] # time dim len for enforce causality\n",
        "        attention_mask = ~torch.tril(torch.full((tl, tl), True, device=device))\n",
        "\n",
        "        for i in range(len(self.attention_layers)):\n",
        "            seqs = torch.transpose(seqs, 0, 1)\n",
        "            Q = self.attention_layernorms[i](seqs)\n",
        "            mha_outputs, _ = self.attention_layers[i](\n",
        "                Q, seqs, seqs, attn_mask=attention_mask\n",
        "            )\n",
        "\n",
        "            seqs = Q + mha_outputs\n",
        "            seqs = torch.transpose(seqs, 0, 1)\n",
        "\n",
        "            seqs = self.forward_layernorms[i](seqs)\n",
        "            seqs = self.forward_layers[i](seqs)\n",
        "            seqs *=  ~timeline_mask.unsqueeze(-1)\n",
        "\n",
        "        log_feats = self.last_layernorm(seqs) # (U, T, C) -> (U, -1, C)\n",
        "\n",
        "        return log_feats\n",
        "\n",
        "    def forward(self, log_seqs, pos_seqs, neg_seqs):\n",
        "        log_feats = ...\n",
        "        pos_embs = ...\n",
        "        neg_embs = ...\n",
        "\n",
        "        pos_logits = ...\n",
        "        neg_logits = ...\n",
        "\n",
        "        return pos_logits, neg_logits\n",
        "\n",
        "    def score(self, seq):\n",
        "        '''\n",
        "        Takes 1d sequence as input and returns prediction scores.\n",
        "        '''\n",
        "        maxlen = self.pos_emb.num_embeddings\n",
        "        \n",
        "        log_seqs = torch.full([maxlen], self.pad_token, dtype=torch.int64, device=seq.device)\n",
        "        log_seqs = ...\n",
        "        logits = ...\n",
        "        \n",
        "        return logits\n",
        "\n",
        "\n",
        "class SASRec(SASRecBackBone):\n",
        "    def __init__(self, item_num, config):\n",
        "        super().__init__(item_num + 1, config)\n",
        "\n",
        "        self.fwd_type = config['fwd_type']\n",
        "\n",
        "        if self.fwd_type == 'bce':\n",
        "            self.n_neg_samples = config['n_neg_samples']\n",
        "\n",
        "        if self.fwd_type == 'sce':\n",
        "            self.n_buckets = config['n_buckets']\n",
        "            self.bucket_size_x = eval(config['bucket_size_x']) if type(config['bucket_size_x']) == str else config['bucket_size_x']\n",
        "            self.bucket_size_y = eval(config['bucket_size_y']) if type(config['bucket_size_y']) == str else config['bucket_size_y']\n",
        "\n",
        "            self.mix_x = config['mix_x']\n",
        "\n",
        "\n",
        "    def forward(self, log_seqs, pos_seqs, neg_seqs):\n",
        "        if self.fwd_type == 'bce':\n",
        "            return self.bce_forward(log_seqs, pos_seqs, neg_seqs)\n",
        "\n",
        "        elif self.fwd_type == 'ce':\n",
        "            return self.ce_forward(log_seqs, pos_seqs)\n",
        "\n",
        "        if self.fwd_type == 'sce':\n",
        "            return self.sce_forward(log_seqs, pos_seqs)\n",
        "\n",
        "        else:\n",
        "            raise ValueError(f'Wrong fwd_type type - {self.fwd_type}')\n",
        "\n",
        "    def bce_forward(self, log_seqs, pos_seqs, neg_seqs):\n",
        "        device = log_seqs.device\n",
        "        pos_logits, neg_logits = super().forward(log_seqs, pos_seqs, neg_seqs)\n",
        "\n",
        "        pos_logits = pos_logits[:, :, None]\n",
        "        neg_logits = neg_logits.permute(0, 2, 1)\n",
        "\n",
        "        pos_labels = torch.ones(pos_logits.shape, device=device)\n",
        "        neg_labels = torch.zeros(neg_logits.shape, device=device)\n",
        "\n",
        "        logits = torch.cat([pos_logits, neg_logits], -1)\n",
        "\n",
        "        gt = torch.cat([pos_labels, neg_labels], -1)\n",
        "\n",
        "        mask = (pos_seqs != self.pad_token).float()\n",
        "\n",
        "        loss_per_element = torch.nn.functional.binary_cross_entropy_with_logits(logits, gt, reduction='none').mean(-1) * mask\n",
        "        loss = loss_per_element.sum() / mask.sum()\n",
        "\n",
        "        return loss\n",
        "\n",
        "    def ce_forward(self, log_seqs, pos_seqs):\n",
        "        emb = ...\n",
        "        logits = ...\n",
        "        indices = torch.where(pos_seqs.view(-1) != self.pad_token)\n",
        "        loss = F.cross_entropy(logits.view(-1, logits.shape[-1])[indices], pos_seqs.view(-1)[indices], reduction='mean')\n",
        "        return loss\n",
        "\n",
        "    def sce_forward(self, log_seqs, pos_seqs):\n",
        "        emb = self.log2feats(log_seqs)\n",
        "        hd = emb.shape[-1]\n",
        "\n",
        "        x = emb.view(-1, hd)\n",
        "        y = pos_seqs.view(-1)\n",
        "        w = self.item_emb.weight\n",
        "\n",
        "        correct_class_logits_ = (x * torch.index_select(w, dim=0, index=y)).sum(dim=1) # (bs,)\n",
        "\n",
        "        with torch.no_grad():\n",
        "            if self.mix_x:\n",
        "                omega = 1/np.sqrt(np.sqrt(hd)) * torch.randn(x.shape[0], self.n_buckets, device=x.device)\n",
        "                buckets = omega.T @ x\n",
        "                del omega\n",
        "            else:\n",
        "                buckets = 1/np.sqrt(np.sqrt(hd)) * torch.randn(self.n_buckets, hd, device=x.device) # (n_b, hd)\n",
        "\n",
        "        with torch.no_grad():\n",
        "            x_bucket = buckets @ x.T # (n_b, hd) x (hd, b) -> (n_b, b)\n",
        "            x_bucket[:, log_seqs.view(-1) == self.pad_token] = float('-inf')\n",
        "            _, top_x_bucket = torch.topk(x_bucket, dim=1, k=self.bucket_size_x) # (n_b, bs_x)\n",
        "            del x_bucket\n",
        "\n",
        "            y_bucket = buckets @ w.T # (n_b, hd) x (hd, n_cl) -> (n_b, n_cl)\n",
        "\n",
        "            y_bucket[:, self.pad_token] = float('-inf')\n",
        "            _, top_y_bucket = torch.topk(y_bucket, dim=1, k=self.bucket_size_y) # (n_b, bs_y)\n",
        "            del y_bucket\n",
        "\n",
        "        x_bucket = torch.gather(x, 0, top_x_bucket.view(-1, 1).expand(-1, hd)).view(self.n_buckets, self.bucket_size_x, hd) # (n_b, bs_x, hd)\n",
        "        y_bucket = torch.gather(w, 0, top_y_bucket.view(-1, 1).expand(-1, hd)).view(self.n_buckets, self.bucket_size_y, hd) # (n_b, bs_y, hd)\n",
        "\n",
        "        wrong_class_logits = (x_bucket @ y_bucket.transpose(-1, -2)) # (n_b, bs_x, bs_y)\n",
        "        mask = torch.index_select(y, dim=0, index=top_x_bucket.view(-1)).view(self.n_buckets, self.bucket_size_x)[:, :, None] == top_y_bucket[:, None, :] # (n_b, bs_x, bs_y)\n",
        "        wrong_class_logits = wrong_class_logits.masked_fill(mask, float('-inf')) # (n_b, bs_x, bs_y)\n",
        "        correct_class_logits = torch.index_select(correct_class_logits_, dim=0, index=top_x_bucket.view(-1)).view(self.n_buckets, self.bucket_size_x)[:, :, None] # (n_b, bs_x, 1)\n",
        "        logits = torch.cat((wrong_class_logits, correct_class_logits), dim=2) # (n_b, bs_x, bs_y + 1)\n",
        "\n",
        "        loss_ = F.cross_entropy(logits.view(-1, logits.shape[-1]), (logits.shape[-1] - 1) * torch.ones(logits.shape[0] * logits.shape[1], dtype=torch.int64, device=logits.device), reduction='none') # (n_b * bs_x,)\n",
        "        loss = torch.zeros(x.shape[0], device=x.device, dtype=x.dtype)\n",
        "        loss.scatter_reduce_(0, top_x_bucket.view(-1), loss_, reduce='amax', include_self=False)\n",
        "        loss = loss[(loss != 0) & (y != self.pad_token)]\n",
        "        loss = torch.mean(loss)\n",
        "\n",
        "        return loss"
      ]
    },
    {
      "cell_type": "markdown",
      "metadata": {
        "id": "yuv1sLfwKF9M"
      },
      "source": [
        "# Training"
      ]
    },
    {
      "cell_type": "code",
      "execution_count": 16,
      "metadata": {
        "id": "pvld-ngXKF9M"
      },
      "outputs": [],
      "source": [
        "def data_to_sequences(data, data_description):\n",
        "    userid = data_description['users']\n",
        "    itemid = data_description['items']\n",
        "    sequences = (\n",
        "        data.sort_values([userid, data_description['order']])\n",
        "        .groupby(userid, sort=False)[itemid].apply(list)\n",
        "    )\n",
        "    return sequences"
      ]
    },
    {
      "cell_type": "code",
      "execution_count": 17,
      "metadata": {
        "id": "T6PNap7QKF9M"
      },
      "outputs": [],
      "source": [
        "def prepare_sasrec_model(config, data, data_description):\n",
        "    n_users = data_description['n_users']\n",
        "    n_items = data_description['n_items']\n",
        "    model = SASRec(n_items, config)\n",
        "    if torch.cuda.is_available():\n",
        "        model = model.cuda()\n",
        "\n",
        "    train_sequences = data_to_sequences(data, data_description)\n",
        "    sampler = DataLoader(SequentialDataset(train_sequences, n_users, n_items,\n",
        "        maxlen = config['maxlen'],\n",
        "        seed = config['sampler_seed'],\n",
        "        n_neg_samples = config['n_neg_samples'],\n",
        "        pad_token = model.pad_token,\n",
        "        sampling = config['sampling']), batch_size=config['batch_size'], shuffle=True, num_workers=2, pin_memory=True, prefetch_factor=10, drop_last=True)\n",
        "\n",
        "    n_batches = len(train_sequences) // config['batch_size']\n",
        "    optimizer = torch.optim.Adam(\n",
        "        model.parameters(),\n",
        "        lr = config['learning_rate'],\n",
        "        betas = (0.9, 0.98)\n",
        "    )\n",
        "    return model, sampler, n_batches, optimizer"
      ]
    },
    {
      "cell_type": "code",
      "execution_count": 18,
      "metadata": {
        "id": "yLUzxVSSKF9M"
      },
      "outputs": [],
      "source": [
        "def train_sasrec_epoch(model, num_batch, l2_emb, sampler, optimizer, device):\n",
        "    model.train()\n",
        "    pad_token = model.pad_token\n",
        "    losses = []\n",
        "    for _, *seq_data in sampler:\n",
        "        # convert batch data into torch tensors\n",
        "        seq, pos, neg = (torch.LongTensor(np.array(x)).to(device) for x in seq_data)\n",
        "        loss = ...\n",
        "    return losses"
      ]
    },
    {
      "cell_type": "code",
      "execution_count": 19,
      "metadata": {
        "id": "7qnhYJ4fnds-"
      },
      "outputs": [],
      "source": [
        "def sasrec_model_scoring(params, data, data_description):\n",
        "    model = params\n",
        "    model.eval()\n",
        "    tensor = torch.cuda.LongTensor if torch.cuda.is_available() else torch.LongTensor\n",
        "    test_sequences = data_to_sequences(data, data_description)\n",
        "    # perform scoring on a user-batch level\n",
        "    scores = []\n",
        "    for _, seq in test_sequences.items():\n",
        "        ...\n",
        "    return np.concatenate(scores, axis=0)"
      ]
    },
    {
      "cell_type": "code",
      "execution_count": 20,
      "metadata": {
        "id": "H7eyOkq_KF9M"
      },
      "outputs": [],
      "source": [
        "def build_sasrec_model(config, data, data_description):\n",
        "    '''Simple MF training routine without early stopping'''\n",
        "    model, sampler, n_batches, optimizer = prepare_sasrec_model(config, data, data_description)\n",
        "    device = 'cpu'\n",
        "    if torch.cuda.is_available():\n",
        "        device = torch.device(f'cuda:{torch.cuda.current_device()}')\n",
        "    losses = {}\n",
        "    hr, mrr, cov = {}, {}, {}\n",
        "    best_hr = 0\n",
        "    wait = 0\n",
        "    start_time = time()\n",
        "    torch.cuda.synchronize()\n",
        "    torch.cuda.reset_peak_memory_stats()\n",
        "\n",
        "    for epoch in tqdm(range(config['num_epochs'])):\n",
        "        losses[epoch] = train_sasrec_epoch(\n",
        "            model, n_batches, config['l2_emb'], sampler, optimizer, device\n",
        "        )\n",
        "        val_scores = sasrec_model_scoring(model, testset_valid, data_description)\n",
        "        downvote_seen_items(val_scores, testset_valid, data_description)\n",
        "        val_recs = topn_recommendations(val_scores, topn=10)\n",
        "        metrics = model_evaluate(val_recs, holdout_valid, data_description)\n",
        "        hr_ = metrics['hr']\n",
        "        mrr_ = metrics['mrr']\n",
        "        cov_ = metrics['cov']\n",
        "\n",
        "        hr[epoch] = hr_\n",
        "        mrr[epoch] = mrr_\n",
        "        cov[epoch] = cov_\n",
        "\n",
        "        if hr_ > best_hr:\n",
        "          best_hr = hr_\n",
        "          wait = 0\n",
        "        elif wait < 20:\n",
        "          wait += 1\n",
        "        else:\n",
        "          break\n",
        "\n",
        "    torch.cuda.synchronize()\n",
        "    training_time_sec = time() - start_time\n",
        "    full_peak_training_memory_bytes = torch.cuda.max_memory_allocated()\n",
        "    training_epoches = len(losses)\n",
        "\n",
        "    print('Peak training memory, mb:', round(full_peak_training_memory_bytes/ 1024. / 1024., 2))\n",
        "    print('Training epoches:', training_epoches)\n",
        "    print('Training time, m:', round(training_time_sec/ 60., 2))\n",
        "\n",
        "    return model, losses, hr, mrr, cov"
      ]
    },
    {
      "cell_type": "code",
      "execution_count": 21,
      "metadata": {
        "id": "br2tSmGtzvdD"
      },
      "outputs": [],
      "source": [
        "base_config_test = dict(\n",
        "    num_epochs = 1,\n",
        "    maxlen = 200,\n",
        "    hidden_units = 64,\n",
        "    dropout_rate = 0.4,\n",
        "    num_blocks = 2,\n",
        "    num_heads = 1,\n",
        "    batch_size = 2048,\n",
        "    sampler_seed = 99,\n",
        "    manual_seed = 111,\n",
        "    learning_rate = 1e-3,\n",
        "    l2_emb = 0,\n",
        "    n_neg_samples = 0,\n",
        "    sampling = 'no_sampling',\n",
        ")"
      ]
    },
    {
      "cell_type": "code",
      "execution_count": null,
      "metadata": {
        "colab": {
          "base_uri": "https://localhost:8080/",
          "height": 100,
          "referenced_widgets": [
            "cf27b7692f514eadace12275953939d8",
            "5004592d43ad4c8899845d70d30d636b",
            "5de09f14da15494aae7fa6626a8f4668",
            "56ae8be1d14b4b9b9bc8b3513184265a",
            "36bd66062a7e45bfb0b2bcf8aba22690",
            "60ee9aad187f47a0aab5497b6bb9180d",
            "f5165e26760042c6961fcaa826f29a66",
            "053a171f787a4434a16caa1031c792cd",
            "c0539d3d6ba34704ab9c5cabf94b7c2e",
            "325822241637407ab6cf466751110efa",
            "3672f258b5e6405fa544acd53e8c2591"
          ]
        },
        "id": "bwk6fTRHjMZu",
        "outputId": "6c42481b-d294-49cc-da50-3ef0f6c50a06"
      },
      "outputs": [],
      "source": [
        "config_sce_test = base_config_test.copy()\n",
        "config_sce_test['mix_x'] = True\n",
        "config_sce_test['n_buckets'] = 500\n",
        "config_sce_test['bucket_size_x'] = 500\n",
        "config_sce_test['bucket_size_y'] = 200\n",
        "config_sce_test['fwd_type'] = 'sce'\n",
        "\n",
        "model_sce_test, losses_sce, hr_sce, mrr_sce, cov_sce = build_sasrec_model(config_sce_test, training, data_description)"
      ]
    },
    {
      "cell_type": "code",
      "execution_count": null,
      "metadata": {
        "colab": {
          "base_uri": "https://localhost:8080/",
          "height": 100,
          "referenced_widgets": [
            "550687d077f0477696bbf0cfa5a8bdd1",
            "478c3e58eed2436fa3f2ae26c65d96cd",
            "f59bff12b9764b8b86e210ddaad3b15f",
            "ba0a4911a1d045b195a0c15102d14763",
            "8fc3c0e93c60460da411559f4d3ec3ee",
            "c7625daba80c40d7bf2fc8dff439875c",
            "4d7a7605f60c4c5d8a17281ddce0c039",
            "fc96cc06ad414b5db2b023ad407ddff6",
            "bd19d5e76a9947a5b0d4ca33470cecdc",
            "98a6b4df52ca4a2b80b406303fd5fce6",
            "fc41e5039a3b459586356362701148c4"
          ]
        },
        "id": "F0kGxlkfjGT3",
        "outputId": "7d699894-926e-4bff-de56-84a655cad159"
      },
      "outputs": [],
      "source": [
        "config_ce_test = base_config_test.copy()\n",
        "config_ce_test['fwd_type'] = 'ce'\n",
        "\n",
        "model_ce_test, losses_ce, hr_ce, mrr_ce, cov_ce = build_sasrec_model(config_ce_test, training, data_description)"
      ]
    },
    {
      "cell_type": "code",
      "execution_count": null,
      "metadata": {
        "colab": {
          "base_uri": "https://localhost:8080/",
          "height": 154,
          "referenced_widgets": [
            "45f3b94e762b4ba092d48cb2e4775ee8",
            "098ab8aca7954444ae949f6666ddb059",
            "3a70cfd08d004fe3968f9bd8cb8414a8",
            "e2c0f0427eaf4d51904adc606c0ed330",
            "3a35559b89474a478b4d6ae40862cd5a",
            "3d219edd12604d27967e305a0a4dfa2b",
            "48676cd4307445a5b469d7afb537c133",
            "2b35329d4b9f4fa79c30695a5ece5eb6",
            "9730d995825a43c58950633f022e19e9",
            "b0fadc4d2b224345be9d5b8c7c5dd233",
            "b4ef4b49e0ac4d98a8235fcc037f3bad"
          ]
        },
        "id": "21b40ooujHVO",
        "outputId": "2ddd1cbc-87d5-40d9-c116-6d6278c9652f"
      },
      "outputs": [],
      "source": [
        "config_bce_test = base_config_test.copy()\n",
        "config_bce_test['fwd_type'] = 'bce'\n",
        "config_bce_test['n_neg_samples'] = 32\n",
        "config_bce_test['sampling'] = 'without_rep'\n",
        "\n",
        "model_bce_test, losses_bce, hr_bce, mrr_bce, cov_bce = build_sasrec_model(config_bce_test, training, data_description)"
      ]
    },
    {
      "cell_type": "markdown",
      "metadata": {
        "id": "4fsEF5X9wfOg"
      },
      "source": [
        "# Let's train the models"
      ]
    },
    {
      "cell_type": "code",
      "execution_count": 25,
      "metadata": {
        "id": "SI8O6J3RTU7O"
      },
      "outputs": [],
      "source": [
        "base_config = dict(\n",
        "    num_epochs = 20,\n",
        "    maxlen = 200,\n",
        "    hidden_units = 64,\n",
        "    dropout_rate = 0.4,\n",
        "    num_blocks = 2,\n",
        "    num_heads = 1,\n",
        "    batch_size = 256,\n",
        "    sampler_seed = 99,\n",
        "    manual_seed = 111,\n",
        "    learning_rate = 1e-3,\n",
        "    l2_emb = 0,\n",
        "    sampling = 'no_sampling',\n",
        "    n_neg_samples = 0\n",
        ")"
      ]
    },
    {
      "cell_type": "code",
      "execution_count": 26,
      "metadata": {
        "id": "yHoivRZUiDlv"
      },
      "outputs": [],
      "source": [
        "config_bce = base_config.copy()\n",
        "config_bce['fwd_type'] = 'bce'\n",
        "config_bce['n_neg_samples'] = 32\n",
        "config_bce['sampling'] = 'without_rep'"
      ]
    },
    {
      "cell_type": "code",
      "execution_count": 27,
      "metadata": {
        "colab": {
          "base_uri": "https://localhost:8080/",
          "height": 100,
          "referenced_widgets": [
            "002af282dcd64812b31b9f64bb440d77",
            "450d307d5f2c43f99627bad318f77704",
            "c0428772c3384c9eb451121d0d2bbf87",
            "7e3201276e0c498db9bc808f1c5a9ace",
            "0925ea203ddc4c3eb2ef8a8b35935b10",
            "ba45049d02224bcd8cee5cd415360888",
            "63898f4fd1a241629b31455b482e0ee2",
            "3d4ad6b9774c4af5acc068d634d43001",
            "7c5eaebd4030434bae30d1ef1020f6dd",
            "3ff254f1530b4b2da3f38a2f521f1352",
            "8de4d60bf78f42228368371ce66fe7d1"
          ]
        },
        "id": "CXkoiAI6iGGE",
        "outputId": "a3947752-efa6-41e0-9ba2-727fff90e4bc"
      },
      "outputs": [
        {
          "data": {
            "application/vnd.jupyter.widget-view+json": {
              "model_id": "002af282dcd64812b31b9f64bb440d77",
              "version_major": 2,
              "version_minor": 0
            },
            "text/plain": [
              "  0%|          | 0/20 [00:00<?, ?it/s]"
            ]
          },
          "metadata": {},
          "output_type": "display_data"
        },
        {
          "name": "stdout",
          "output_type": "stream",
          "text": [
            "Peak training memory, mb: 1747.67\n",
            "Training epoches: 20\n",
            "Training time, m: 12.69\n"
          ]
        }
      ],
      "source": [
        "model_bce, losses_bce, hr_bce, mrr_bce, cov_bce = build_sasrec_model(config_bce, training, data_description)"
      ]
    },
    {
      "cell_type": "code",
      "execution_count": 28,
      "metadata": {
        "id": "oRakZwaHKF9M"
      },
      "outputs": [],
      "source": [
        "config_ce = base_config.copy()\n",
        "config_ce['fwd_type'] = 'ce'"
      ]
    },
    {
      "cell_type": "code",
      "execution_count": 29,
      "metadata": {
        "colab": {
          "base_uri": "https://localhost:8080/",
          "height": 100,
          "referenced_widgets": [
            "b8be7e684700416b9dffe5cd90ce1df8",
            "0eed09ba4f104828865c59e83cd54a04",
            "c71ab49fbb144cddbe448ad6c2d68288",
            "d8933791309a434ebdd6ec1a9212914e",
            "25cae8042c944c68abce856f9f9e0eb0",
            "30379d31c9474081a8fdabdbf249a01c",
            "2db84efb1da74617ba03654b4498ad33",
            "d912e4c149ee4609b549896e5fe42828",
            "101dba94fe6f48dea82a5bf33cdca275",
            "6996f0f673ac447b8cbe85369b50f964",
            "aedaf2cf674e4202a803d84b231baeca"
          ]
        },
        "id": "_SNulmhcKF9N",
        "outputId": "19e126da-3f49-435f-fbd5-1f77166e6868"
      },
      "outputs": [
        {
          "data": {
            "application/vnd.jupyter.widget-view+json": {
              "model_id": "b8be7e684700416b9dffe5cd90ce1df8",
              "version_major": 2,
              "version_minor": 0
            },
            "text/plain": [
              "  0%|          | 0/20 [00:00<?, ?it/s]"
            ]
          },
          "metadata": {},
          "output_type": "display_data"
        },
        {
          "name": "stdout",
          "output_type": "stream",
          "text": [
            "Peak training memory, mb: 2014.73\n",
            "Training epoches: 20\n",
            "Training time, m: 3.07\n"
          ]
        }
      ],
      "source": [
        "model_ce, losses_ce, hr_ce, mrr_ce, cov_ce = build_sasrec_model(config_ce, training, data_description)"
      ]
    },
    {
      "cell_type": "code",
      "execution_count": 30,
      "metadata": {
        "id": "FI-qYJlildVj"
      },
      "outputs": [],
      "source": [
        "config_sce = base_config.copy()\n",
        "config_sce['mix_x'] = False\n",
        "config_sce['n_buckets'] = 500\n",
        "config_sce['bucket_size_x'] = 500\n",
        "config_sce['bucket_size_y'] = 200\n",
        "config_sce['fwd_type'] = 'sce'\n"
      ]
    },
    {
      "cell_type": "code",
      "execution_count": 31,
      "metadata": {
        "colab": {
          "base_uri": "https://localhost:8080/",
          "height": 100,
          "referenced_widgets": [
            "d670673278c1434294ab1cdc476a7e52",
            "5f36c83ce7b446969ca6ac0cbdf8e159",
            "3ffb2806aac94311bf785742404c00f9",
            "aaa3a5a82c55494aaf58867a55d61ab6",
            "c71266494b1646a8955023840f210257",
            "b85d1184f3c84a38ba145b35088dea09",
            "b877d86b00e34a9ca37a98af0dda7812",
            "bdd31d05ffea4f9f86a2e6491331cc2d",
            "da18a9daf68042ae84323b6caa29007e",
            "07f122d73156465a815898bde6db32bb",
            "02bc4eb590ef4ef1ba774b6b62afd896"
          ]
        },
        "id": "Uq0p6TRolgbE",
        "outputId": "a1e782de-6370-4f01-8836-92d39c61d2ea"
      },
      "outputs": [
        {
          "data": {
            "application/vnd.jupyter.widget-view+json": {
              "model_id": "d670673278c1434294ab1cdc476a7e52",
              "version_major": 2,
              "version_minor": 0
            },
            "text/plain": [
              "  0%|          | 0/20 [00:00<?, ?it/s]"
            ]
          },
          "metadata": {},
          "output_type": "display_data"
        },
        {
          "name": "stdout",
          "output_type": "stream",
          "text": [
            "Peak training memory, mb: 1238.74\n",
            "Training epoches: 20\n",
            "Training time, m: 3.05\n"
          ]
        }
      ],
      "source": [
        "model_sce, losses_sce, hr_sce, mrr_sce, cov_sce = build_sasrec_model(config_sce, training, data_description)"
      ]
    },
    {
      "cell_type": "code",
      "execution_count": 32,
      "metadata": {
        "colab": {
          "base_uri": "https://localhost:8080/",
          "height": 419
        },
        "id": "nSwWjM1lljYZ",
        "outputId": "e16e1323-f0aa-4f7c-9fe8-daae927da446"
      },
      "outputs": [
        {
          "data": {
            "text/plain": [
              "<matplotlib.legend.Legend at 0x7f416c97dae0>"
            ]
          },
          "execution_count": 32,
          "metadata": {},
          "output_type": "execute_result"
        },
        {
          "data": {
            "image/png": "[encoded data removed]",
            "text/plain": [
              "<Figure size 2000x500 with 4 Axes>"
            ]
          },
          "metadata": {},
          "output_type": "display_data"
        }
      ],
      "source": [
        "fig, ax = plt.subplots(1, 4, figsize=(20, 5))\n",
        "pd.Series(losses_sce).apply(np.mean).plot(title='Evolution of loss', xlabel='Epoch', ylabel='Loss', ax=ax[0], label='SCE');\n",
        "pd.Series(hr_sce).apply(np.mean).plot(title='Evolution of val HR', xlabel='Epoch', ylabel='HR', ax=ax[1], label='SCE');\n",
        "pd.Series(mrr_sce).apply(np.mean).plot(title='Evolution of val MRR', xlabel='Epoch', ylabel='MRR', ax=ax[2], label='SCE');\n",
        "pd.Series(cov_sce).apply(np.mean).plot(title='Evolution of val COV', xlabel='Epoch', ylabel='COV', ax=ax[3], label='SCE');\n",
        "\n",
        "pd.Series(losses_ce).apply(np.mean).plot(title='Evolution of loss', xlabel='Epoch', ylabel='Loss', ax=ax[0], label='CE');\n",
        "pd.Series(hr_ce).apply(np.mean).plot(title='Evolution of val HR', xlabel='Epoch', ylabel='HR', ax=ax[1], label='CE');\n",
        "pd.Series(mrr_ce).apply(np.mean).plot(title='Evolution of val MRR', xlabel='Epoch', ylabel='MRR', ax=ax[2], label='CE');\n",
        "pd.Series(cov_ce).apply(np.mean).plot(title='Evolution of val COV', xlabel='Epoch', ylabel='COV', ax=ax[3], label='CE');\n",
        "\n",
        "pd.Series(losses_bce).apply(np.mean).plot(title='Evolution of loss', xlabel='Epoch', ylabel='Loss', ax=ax[0], label='BCE');\n",
        "pd.Series(hr_bce).apply(np.mean).plot(title='Evolution of val HR', xlabel='Epoch', ylabel='HR', ax=ax[1], label='BCE');\n",
        "pd.Series(mrr_bce).apply(np.mean).plot(title='Evolution of val MRR', xlabel='Epoch', ylabel='MRR', ax=ax[2], label='BCE');\n",
        "pd.Series(cov_bce).apply(np.mean).plot(title='Evolution of val COV', xlabel='Epoch', ylabel='COV', ax=ax[3], label='BCE');\n",
        "\n",
        "plt.legend()"
      ]
    },
    {
      "cell_type": "markdown",
      "metadata": {
        "id": "9iplbj61KF9N"
      },
      "source": [
        "# Evaluation"
      ]
    },
    {
      "cell_type": "code",
      "execution_count": 33,
      "metadata": {
        "colab": {
          "base_uri": "https://localhost:8080/"
        },
        "id": "67GnPui2iuon",
        "outputId": "ddca4aa6-59f1-4271-abf5-a011a739f6c0"
      },
      "outputs": [
        {
          "data": {
            "text/plain": [
              "{'hr': 0.036684782608695655,\n",
              " 'mrr': 0.006975716011042098,\n",
              " 'cov': 0.07119386637458927}"
            ]
          },
          "execution_count": 33,
          "metadata": {},
          "output_type": "execute_result"
        }
      ],
      "source": [
        "# SASRec BCE\n",
        "sasrec_scores_bce = sasrec_model_scoring(model_bce, testset, data_description)\n",
        "downvote_seen_items(sasrec_scores_bce, testset, data_description)\n",
        "\n",
        "sasrec_recs_bce = topn_recommendations(sasrec_scores_bce, topn=10)\n",
        "model_evaluate(sasrec_recs_bce, holdout, data_description)"
      ]
    },
    {
      "cell_type": "code",
      "execution_count": 34,
      "metadata": {
        "colab": {
          "base_uri": "https://localhost:8080/"
        },
        "id": "69ocQuso62jU",
        "outputId": "bf45e7c2-f6a6-4420-d894-c4a390489b6e"
      },
      "outputs": [
        {
          "data": {
            "text/plain": [
              "{'hr': 0.12228260869565218,\n",
              " 'mrr': 0.047403920807453426,\n",
              " 'cov': 0.3359802847754655}"
            ]
          },
          "execution_count": 34,
          "metadata": {},
          "output_type": "execute_result"
        }
      ],
      "source": [
        "# CE\n",
        "sasrec_scores_ce = sasrec_model_scoring(model_ce, testset, data_description)\n",
        "downvote_seen_items(sasrec_scores_ce, testset, data_description)\n",
        "\n",
        "sasrec_recs_ce = topn_recommendations(sasrec_scores_ce, topn=10)\n",
        "model_evaluate(sasrec_recs_ce, holdout, data_description)"
      ]
    },
    {
      "cell_type": "code",
      "execution_count": 35,
      "metadata": {
        "colab": {
          "base_uri": "https://localhost:8080/"
        },
        "id": "x-rkMp9fDsmU",
        "outputId": "08a2ce19-5470-420e-b2de-822e4246dd79"
      },
      "outputs": [
        {
          "data": {
            "text/plain": [
              "{'hr': 0.11141304347826086,\n",
              " 'mrr': 0.04683348429951691,\n",
              " 'cov': 0.35076670317634173}"
            ]
          },
          "execution_count": 35,
          "metadata": {},
          "output_type": "execute_result"
        }
      ],
      "source": [
        "# SCE\n",
        "sasrec_scores_sce = sasrec_model_scoring(model_sce, testset, data_description)\n",
        "downvote_seen_items(sasrec_scores_sce, testset, data_description)\n",
        "\n",
        "sasrec_recs_sce = topn_recommendations(sasrec_scores_sce, topn=10)\n",
        "model_evaluate(sasrec_recs_sce, holdout, data_description)"
      ]
    },
    {
      "cell_type": "code",
      "execution_count": 35,
      "metadata": {
        "id": "qjAyW7KPuOfP"
      },
      "outputs": [],
      "source": []
    }
  ],
  "metadata": {
    "accelerator": "GPU",
    "colab": {
      "gpuType": "T4",
      "provenance": []
    },
    "interpreter": {
      "hash": "e587e8b75394de48c2e2a47def3a5e72a23054844b7abdff48af37dc7e76636d"
    },
    "kernelspec": {
      "display_name": "Python 3",
      "name": "python3"
    },
    "language_info": {
      "codemirror_mode": {
        "name": "ipython",
        "version": 3
      },
      "file_extension": ".py",
      "mimetype": "text/x-python",
      "name": "python",
      "nbconvert_exporter": "python",
      "pygments_lexer": "ipython3",
      "version": "3.9.10"
    },
    "orig_nbformat": 4,
    "widgets": {
      "application/vnd.jupyter.widget-state+json": {
        "002af282dcd64812b31b9f64bb440d77": {
          "model_module": "@jupyter-widgets/controls",
          "model_module_version": "1.5.0",
          "model_name": "HBoxModel",
          "state": {
            "_dom_classes": [],
            "_model_module": "@jupyter-widgets/controls",
            "_model_module_version": "1.5.0",
            "_model_name": "HBoxModel",
            "_view_count": null,
            "_view_module": "@jupyter-widgets/controls",
            "_view_module_version": "1.5.0",
            "_view_name": "HBoxView",
            "box_style": "",
            "children": [
              "IPY_MODEL_450d307d5f2c43f99627bad318f77704",
              "IPY_MODEL_c0428772c3384c9eb451121d0d2bbf87",
              "IPY_MODEL_7e3201276e0c498db9bc808f1c5a9ace"
            ],
            "layout": "IPY_MODEL_0925ea203ddc4c3eb2ef8a8b35935b10"
          }
        },
        "02bc4eb590ef4ef1ba774b6b62afd896": {
          "model_module": "@jupyter-widgets/controls",
          "model_module_version": "1.5.0",
          "model_name": "DescriptionStyleModel",
          "state": {
            "_model_module": "@jupyter-widgets/controls",
            "_model_module_version": "1.5.0",
            "_model_name": "DescriptionStyleModel",
            "_view_count": null,
            "_view_module": "@jupyter-widgets/base",
            "_view_module_version": "1.2.0",
            "_view_name": "StyleView",
            "description_width": ""
          }
        },
        "053a171f787a4434a16caa1031c792cd": {
          "model_module": "@jupyter-widgets/base",
          "model_module_version": "1.2.0",
          "model_name": "LayoutModel",
          "state": {
            "_model_module": "@jupyter-widgets/base",
            "_model_module_version": "1.2.0",
            "_model_name": "LayoutModel",
            "_view_count": null,
            "_view_module": "@jupyter-widgets/base",
            "_view_module_version": "1.2.0",
            "_view_name": "LayoutView",
            "align_content": null,
            "align_items": null,
            "align_self": null,
            "border": null,
            "bottom": null,
            "display": null,
            "flex": null,
            "flex_flow": null,
            "grid_area": null,
            "grid_auto_columns": null,
            "grid_auto_flow": null,
            "grid_auto_rows": null,
            "grid_column": null,
            "grid_gap": null,
            "grid_row": null,
            "grid_template_areas": null,
            "grid_template_columns": null,
            "grid_template_rows": null,
            "height": null,
            "justify_content": null,
            "justify_items": null,
            "left": null,
            "margin": null,
            "max_height": null,
            "max_width": null,
            "min_height": null,
            "min_width": null,
            "object_fit": null,
            "object_position": null,
            "order": null,
            "overflow": null,
            "overflow_x": null,
            "overflow_y": null,
            "padding": null,
            "right": null,
            "top": null,
            "visibility": null,
            "width": null
          }
        },
        "07f122d73156465a815898bde6db32bb": {
          "model_module": "@jupyter-widgets/base",
          "model_module_version": "1.2.0",
          "model_name": "LayoutModel",
          "state": {
            "_model_module": "@jupyter-widgets/base",
            "_model_module_version": "1.2.0",
            "_model_name": "LayoutModel",
            "_view_count": null,
            "_view_module": "@jupyter-widgets/base",
            "_view_module_version": "1.2.0",
            "_view_name": "LayoutView",
            "align_content": null,
            "align_items": null,
            "align_self": null,
            "border": null,
            "bottom": null,
            "display": null,
            "flex": null,
            "flex_flow": null,
            "grid_area": null,
            "grid_auto_columns": null,
            "grid_auto_flow": null,
            "grid_auto_rows": null,
            "grid_column": null,
            "grid_gap": null,
            "grid_row": null,
            "grid_template_areas": null,
            "grid_template_columns": null,
            "grid_template_rows": null,
            "height": null,
            "justify_content": null,
            "justify_items": null,
            "left": null,
            "margin": null,
            "max_height": null,
            "max_width": null,
            "min_height": null,
            "min_width": null,
            "object_fit": null,
            "object_position": null,
            "order": null,
            "overflow": null,
            "overflow_x": null,
            "overflow_y": null,
            "padding": null,
            "right": null,
            "top": null,
            "visibility": null,
            "width": null
          }
        },
        "0925ea203ddc4c3eb2ef8a8b35935b10": {
          "model_module": "@jupyter-widgets/base",
          "model_module_version": "1.2.0",
          "model_name": "LayoutModel",
          "state": {
            "_model_module": "@jupyter-widgets/base",
            "_model_module_version": "1.2.0",
            "_model_name": "LayoutModel",
            "_view_count": null,
            "_view_module": "@jupyter-widgets/base",
            "_view_module_version": "1.2.0",
            "_view_name": "LayoutView",
            "align_content": null,
            "align_items": null,
            "align_self": null,
            "border": null,
            "bottom": null,
            "display": null,
            "flex": null,
            "flex_flow": null,
            "grid_area": null,
            "grid_auto_columns": null,
            "grid_auto_flow": null,
            "grid_auto_rows": null,
            "grid_column": null,
            "grid_gap": null,
            "grid_row": null,
            "grid_template_areas": null,
            "grid_template_columns": null,
            "grid_template_rows": null,
            "height": null,
            "justify_content": null,
            "justify_items": null,
            "left": null,
            "margin": null,
            "max_height": null,
            "max_width": null,
            "min_height": null,
            "min_width": null,
            "object_fit": null,
            "object_position": null,
            "order": null,
            "overflow": null,
            "overflow_x": null,
            "overflow_y": null,
            "padding": null,
            "right": null,
            "top": null,
            "visibility": null,
            "width": null
          }
        },
        "098ab8aca7954444ae949f6666ddb059": {
          "model_module": "@jupyter-widgets/controls",
          "model_module_version": "1.5.0",
          "model_name": "HTMLModel",
          "state": {
            "_dom_classes": [],
            "_model_module": "@jupyter-widgets/controls",
            "_model_module_version": "1.5.0",
            "_model_name": "HTMLModel",
            "_view_count": null,
            "_view_module": "@jupyter-widgets/controls",
            "_view_module_version": "1.5.0",
            "_view_name": "HTMLView",
            "description": "",
            "description_tooltip": null,
            "layout": "IPY_MODEL_3d219edd12604d27967e305a0a4dfa2b",
            "placeholder": "​",
            "style": "IPY_MODEL_48676cd4307445a5b469d7afb537c133",
            "value": "100%"
          }
        },
        "0eed09ba4f104828865c59e83cd54a04": {
          "model_module": "@jupyter-widgets/controls",
          "model_module_version": "1.5.0",
          "model_name": "HTMLModel",
          "state": {
            "_dom_classes": [],
            "_model_module": "@jupyter-widgets/controls",
            "_model_module_version": "1.5.0",
            "_model_name": "HTMLModel",
            "_view_count": null,
            "_view_module": "@jupyter-widgets/controls",
            "_view_module_version": "1.5.0",
            "_view_name": "HTMLView",
            "description": "",
            "description_tooltip": null,
            "layout": "IPY_MODEL_30379d31c9474081a8fdabdbf249a01c",
            "placeholder": "​",
            "style": "IPY_MODEL_2db84efb1da74617ba03654b4498ad33",
            "value": "100%"
          }
        },
        "101dba94fe6f48dea82a5bf33cdca275": {
          "model_module": "@jupyter-widgets/controls",
          "model_module_version": "1.5.0",
          "model_name": "ProgressStyleModel",
          "state": {
            "_model_module": "@jupyter-widgets/controls",
            "_model_module_version": "1.5.0",
            "_model_name": "ProgressStyleModel",
            "_view_count": null,
            "_view_module": "@jupyter-widgets/base",
            "_view_module_version": "1.2.0",
            "_view_name": "StyleView",
            "bar_color": null,
            "description_width": ""
          }
        },
        "25cae8042c944c68abce856f9f9e0eb0": {
          "model_module": "@jupyter-widgets/base",
          "model_module_version": "1.2.0",
          "model_name": "LayoutModel",
          "state": {
            "_model_module": "@jupyter-widgets/base",
            "_model_module_version": "1.2.0",
            "_model_name": "LayoutModel",
            "_view_count": null,
            "_view_module": "@jupyter-widgets/base",
            "_view_module_version": "1.2.0",
            "_view_name": "LayoutView",
            "align_content": null,
            "align_items": null,
            "align_self": null,
            "border": null,
            "bottom": null,
            "display": null,
            "flex": null,
            "flex_flow": null,
            "grid_area": null,
            "grid_auto_columns": null,
            "grid_auto_flow": null,
            "grid_auto_rows": null,
            "grid_column": null,
            "grid_gap": null,
            "grid_row": null,
            "grid_template_areas": null,
            "grid_template_columns": null,
            "grid_template_rows": null,
            "height": null,
            "justify_content": null,
            "justify_items": null,
            "left": null,
            "margin": null,
            "max_height": null,
            "max_width": null,
            "min_height": null,
            "min_width": null,
            "object_fit": null,
            "object_position": null,
            "order": null,
            "overflow": null,
            "overflow_x": null,
            "overflow_y": null,
            "padding": null,
            "right": null,
            "top": null,
            "visibility": null,
            "width": null
          }
        },
        "2b35329d4b9f4fa79c30695a5ece5eb6": {
          "model_module": "@jupyter-widgets/base",
          "model_module_version": "1.2.0",
          "model_name": "LayoutModel",
          "state": {
            "_model_module": "@jupyter-widgets/base",
            "_model_module_version": "1.2.0",
            "_model_name": "LayoutModel",
            "_view_count": null,
            "_view_module": "@jupyter-widgets/base",
            "_view_module_version": "1.2.0",
            "_view_name": "LayoutView",
            "align_content": null,
            "align_items": null,
            "align_self": null,
            "border": null,
            "bottom": null,
            "display": null,
            "flex": null,
            "flex_flow": null,
            "grid_area": null,
            "grid_auto_columns": null,
            "grid_auto_flow": null,
            "grid_auto_rows": null,
            "grid_column": null,
            "grid_gap": null,
            "grid_row": null,
            "grid_template_areas": null,
            "grid_template_columns": null,
            "grid_template_rows": null,
            "height": null,
            "justify_content": null,
            "justify_items": null,
            "left": null,
            "margin": null,
            "max_height": null,
            "max_width": null,
            "min_height": null,
            "min_width": null,
            "object_fit": null,
            "object_position": null,
            "order": null,
            "overflow": null,
            "overflow_x": null,
            "overflow_y": null,
            "padding": null,
            "right": null,
            "top": null,
            "visibility": null,
            "width": null
          }
        },
        "2db84efb1da74617ba03654b4498ad33": {
          "model_module": "@jupyter-widgets/controls",
          "model_module_version": "1.5.0",
          "model_name": "DescriptionStyleModel",
          "state": {
            "_model_module": "@jupyter-widgets/controls",
            "_model_module_version": "1.5.0",
            "_model_name": "DescriptionStyleModel",
            "_view_count": null,
            "_view_module": "@jupyter-widgets/base",
            "_view_module_version": "1.2.0",
            "_view_name": "StyleView",
            "description_width": ""
          }
        },
        "30379d31c9474081a8fdabdbf249a01c": {
          "model_module": "@jupyter-widgets/base",
          "model_module_version": "1.2.0",
          "model_name": "LayoutModel",
          "state": {
            "_model_module": "@jupyter-widgets/base",
            "_model_module_version": "1.2.0",
            "_model_name": "LayoutModel",
            "_view_count": null,
            "_view_module": "@jupyter-widgets/base",
            "_view_module_version": "1.2.0",
            "_view_name": "LayoutView",
            "align_content": null,
            "align_items": null,
            "align_self": null,
            "border": null,
            "bottom": null,
            "display": null,
            "flex": null,
            "flex_flow": null,
            "grid_area": null,
            "grid_auto_columns": null,
            "grid_auto_flow": null,
            "grid_auto_rows": null,
            "grid_column": null,
            "grid_gap": null,
            "grid_row": null,
            "grid_template_areas": null,
            "grid_template_columns": null,
            "grid_template_rows": null,
            "height": null,
            "justify_content": null,
            "justify_items": null,
            "left": null,
            "margin": null,
            "max_height": null,
            "max_width": null,
            "min_height": null,
            "min_width": null,
            "object_fit": null,
            "object_position": null,
            "order": null,
            "overflow": null,
            "overflow_x": null,
            "overflow_y": null,
            "padding": null,
            "right": null,
            "top": null,
            "visibility": null,
            "width": null
          }
        },
        "325822241637407ab6cf466751110efa": {
          "model_module": "@jupyter-widgets/base",
          "model_module_version": "1.2.0",
          "model_name": "LayoutModel",
          "state": {
            "_model_module": "@jupyter-widgets/base",
            "_model_module_version": "1.2.0",
            "_model_name": "LayoutModel",
            "_view_count": null,
            "_view_module": "@jupyter-widgets/base",
            "_view_module_version": "1.2.0",
            "_view_name": "LayoutView",
            "align_content": null,
            "align_items": null,
            "align_self": null,
            "border": null,
            "bottom": null,
            "display": null,
            "flex": null,
            "flex_flow": null,
            "grid_area": null,
            "grid_auto_columns": null,
            "grid_auto_flow": null,
            "grid_auto_rows": null,
            "grid_column": null,
            "grid_gap": null,
            "grid_row": null,
            "grid_template_areas": null,
            "grid_template_columns": null,
            "grid_template_rows": null,
            "height": null,
            "justify_content": null,
            "justify_items": null,
            "left": null,
            "margin": null,
            "max_height": null,
            "max_width": null,
            "min_height": null,
            "min_width": null,
            "object_fit": null,
            "object_position": null,
            "order": null,
            "overflow": null,
            "overflow_x": null,
            "overflow_y": null,
            "padding": null,
            "right": null,
            "top": null,
            "visibility": null,
            "width": null
          }
        },
        "3672f258b5e6405fa544acd53e8c2591": {
          "model_module": "@jupyter-widgets/controls",
          "model_module_version": "1.5.0",
          "model_name": "DescriptionStyleModel",
          "state": {
            "_model_module": "@jupyter-widgets/controls",
            "_model_module_version": "1.5.0",
            "_model_name": "DescriptionStyleModel",
            "_view_count": null,
            "_view_module": "@jupyter-widgets/base",
            "_view_module_version": "1.2.0",
            "_view_name": "StyleView",
            "description_width": ""
          }
        },
        "36bd66062a7e45bfb0b2bcf8aba22690": {
          "model_module": "@jupyter-widgets/base",
          "model_module_version": "1.2.0",
          "model_name": "LayoutModel",
          "state": {
            "_model_module": "@jupyter-widgets/base",
            "_model_module_version": "1.2.0",
            "_model_name": "LayoutModel",
            "_view_count": null,
            "_view_module": "@jupyter-widgets/base",
            "_view_module_version": "1.2.0",
            "_view_name": "LayoutView",
            "align_content": null,
            "align_items": null,
            "align_self": null,
            "border": null,
            "bottom": null,
            "display": null,
            "flex": null,
            "flex_flow": null,
            "grid_area": null,
            "grid_auto_columns": null,
            "grid_auto_flow": null,
            "grid_auto_rows": null,
            "grid_column": null,
            "grid_gap": null,
            "grid_row": null,
            "grid_template_areas": null,
            "grid_template_columns": null,
            "grid_template_rows": null,
            "height": null,
            "justify_content": null,
            "justify_items": null,
            "left": null,
            "margin": null,
            "max_height": null,
            "max_width": null,
            "min_height": null,
            "min_width": null,
            "object_fit": null,
            "object_position": null,
            "order": null,
            "overflow": null,
            "overflow_x": null,
            "overflow_y": null,
            "padding": null,
            "right": null,
            "top": null,
            "visibility": null,
            "width": null
          }
        },
        "3a35559b89474a478b4d6ae40862cd5a": {
          "model_module": "@jupyter-widgets/base",
          "model_module_version": "1.2.0",
          "model_name": "LayoutModel",
          "state": {
            "_model_module": "@jupyter-widgets/base",
            "_model_module_version": "1.2.0",
            "_model_name": "LayoutModel",
            "_view_count": null,
            "_view_module": "@jupyter-widgets/base",
            "_view_module_version": "1.2.0",
            "_view_name": "LayoutView",
            "align_content": null,
            "align_items": null,
            "align_self": null,
            "border": null,
            "bottom": null,
            "display": null,
            "flex": null,
            "flex_flow": null,
            "grid_area": null,
            "grid_auto_columns": null,
            "grid_auto_flow": null,
            "grid_auto_rows": null,
            "grid_column": null,
            "grid_gap": null,
            "grid_row": null,
            "grid_template_areas": null,
            "grid_template_columns": null,
            "grid_template_rows": null,
            "height": null,
            "justify_content": null,
            "justify_items": null,
            "left": null,
            "margin": null,
            "max_height": null,
            "max_width": null,
            "min_height": null,
            "min_width": null,
            "object_fit": null,
            "object_position": null,
            "order": null,
            "overflow": null,
            "overflow_x": null,
            "overflow_y": null,
            "padding": null,
            "right": null,
            "top": null,
            "visibility": null,
            "width": null
          }
        },
        "3a70cfd08d004fe3968f9bd8cb8414a8": {
          "model_module": "@jupyter-widgets/controls",
          "model_module_version": "1.5.0",
          "model_name": "FloatProgressModel",
          "state": {
            "_dom_classes": [],
            "_model_module": "@jupyter-widgets/controls",
            "_model_module_version": "1.5.0",
            "_model_name": "FloatProgressModel",
            "_view_count": null,
            "_view_module": "@jupyter-widgets/controls",
            "_view_module_version": "1.5.0",
            "_view_name": "ProgressView",
            "bar_style": "success",
            "description": "",
            "description_tooltip": null,
            "layout": "IPY_MODEL_2b35329d4b9f4fa79c30695a5ece5eb6",
            "max": 1,
            "min": 0,
            "orientation": "horizontal",
            "style": "IPY_MODEL_9730d995825a43c58950633f022e19e9",
            "value": 1
          }
        },
        "3d219edd12604d27967e305a0a4dfa2b": {
          "model_module": "@jupyter-widgets/base",
          "model_module_version": "1.2.0",
          "model_name": "LayoutModel",
          "state": {
            "_model_module": "@jupyter-widgets/base",
            "_model_module_version": "1.2.0",
            "_model_name": "LayoutModel",
            "_view_count": null,
            "_view_module": "@jupyter-widgets/base",
            "_view_module_version": "1.2.0",
            "_view_name": "LayoutView",
            "align_content": null,
            "align_items": null,
            "align_self": null,
            "border": null,
            "bottom": null,
            "display": null,
            "flex": null,
            "flex_flow": null,
            "grid_area": null,
            "grid_auto_columns": null,
            "grid_auto_flow": null,
            "grid_auto_rows": null,
            "grid_column": null,
            "grid_gap": null,
            "grid_row": null,
            "grid_template_areas": null,
            "grid_template_columns": null,
            "grid_template_rows": null,
            "height": null,
            "justify_content": null,
            "justify_items": null,
            "left": null,
            "margin": null,
            "max_height": null,
            "max_width": null,
            "min_height": null,
            "min_width": null,
            "object_fit": null,
            "object_position": null,
            "order": null,
            "overflow": null,
            "overflow_x": null,
            "overflow_y": null,
            "padding": null,
            "right": null,
            "top": null,
            "visibility": null,
            "width": null
          }
        },
        "3d4ad6b9774c4af5acc068d634d43001": {
          "model_module": "@jupyter-widgets/base",
          "model_module_version": "1.2.0",
          "model_name": "LayoutModel",
          "state": {
            "_model_module": "@jupyter-widgets/base",
            "_model_module_version": "1.2.0",
            "_model_name": "LayoutModel",
            "_view_count": null,
            "_view_module": "@jupyter-widgets/base",
            "_view_module_version": "1.2.0",
            "_view_name": "LayoutView",
            "align_content": null,
            "align_items": null,
            "align_self": null,
            "border": null,
            "bottom": null,
            "display": null,
            "flex": null,
            "flex_flow": null,
            "grid_area": null,
            "grid_auto_columns": null,
            "grid_auto_flow": null,
            "grid_auto_rows": null,
            "grid_column": null,
            "grid_gap": null,
            "grid_row": null,
            "grid_template_areas": null,
            "grid_template_columns": null,
            "grid_template_rows": null,
            "height": null,
            "justify_content": null,
            "justify_items": null,
            "left": null,
            "margin": null,
            "max_height": null,
            "max_width": null,
            "min_height": null,
            "min_width": null,
            "object_fit": null,
            "object_position": null,
            "order": null,
            "overflow": null,
            "overflow_x": null,
            "overflow_y": null,
            "padding": null,
            "right": null,
            "top": null,
            "visibility": null,
            "width": null
          }
        },
        "3ff254f1530b4b2da3f38a2f521f1352": {
          "model_module": "@jupyter-widgets/base",
          "model_module_version": "1.2.0",
          "model_name": "LayoutModel",
          "state": {
            "_model_module": "@jupyter-widgets/base",
            "_model_module_version": "1.2.0",
            "_model_name": "LayoutModel",
            "_view_count": null,
            "_view_module": "@jupyter-widgets/base",
            "_view_module_version": "1.2.0",
            "_view_name": "LayoutView",
            "align_content": null,
            "align_items": null,
            "align_self": null,
            "border": null,
            "bottom": null,
            "display": null,
            "flex": null,
            "flex_flow": null,
            "grid_area": null,
            "grid_auto_columns": null,
            "grid_auto_flow": null,
            "grid_auto_rows": null,
            "grid_column": null,
            "grid_gap": null,
            "grid_row": null,
            "grid_template_areas": null,
            "grid_template_columns": null,
            "grid_template_rows": null,
            "height": null,
            "justify_content": null,
            "justify_items": null,
            "left": null,
            "margin": null,
            "max_height": null,
            "max_width": null,
            "min_height": null,
            "min_width": null,
            "object_fit": null,
            "object_position": null,
            "order": null,
            "overflow": null,
            "overflow_x": null,
            "overflow_y": null,
            "padding": null,
            "right": null,
            "top": null,
            "visibility": null,
            "width": null
          }
        },
        "3ffb2806aac94311bf785742404c00f9": {
          "model_module": "@jupyter-widgets/controls",
          "model_module_version": "1.5.0",
          "model_name": "FloatProgressModel",
          "state": {
            "_dom_classes": [],
            "_model_module": "@jupyter-widgets/controls",
            "_model_module_version": "1.5.0",
            "_model_name": "FloatProgressModel",
            "_view_count": null,
            "_view_module": "@jupyter-widgets/controls",
            "_view_module_version": "1.5.0",
            "_view_name": "ProgressView",
            "bar_style": "success",
            "description": "",
            "description_tooltip": null,
            "layout": "IPY_MODEL_bdd31d05ffea4f9f86a2e6491331cc2d",
            "max": 20,
            "min": 0,
            "orientation": "horizontal",
            "style": "IPY_MODEL_da18a9daf68042ae84323b6caa29007e",
            "value": 20
          }
        },
        "450d307d5f2c43f99627bad318f77704": {
          "model_module": "@jupyter-widgets/controls",
          "model_module_version": "1.5.0",
          "model_name": "HTMLModel",
          "state": {
            "_dom_classes": [],
            "_model_module": "@jupyter-widgets/controls",
            "_model_module_version": "1.5.0",
            "_model_name": "HTMLModel",
            "_view_count": null,
            "_view_module": "@jupyter-widgets/controls",
            "_view_module_version": "1.5.0",
            "_view_name": "HTMLView",
            "description": "",
            "description_tooltip": null,
            "layout": "IPY_MODEL_ba45049d02224bcd8cee5cd415360888",
            "placeholder": "​",
            "style": "IPY_MODEL_63898f4fd1a241629b31455b482e0ee2",
            "value": "100%"
          }
        },
        "45f3b94e762b4ba092d48cb2e4775ee8": {
          "model_module": "@jupyter-widgets/controls",
          "model_module_version": "1.5.0",
          "model_name": "HBoxModel",
          "state": {
            "_dom_classes": [],
            "_model_module": "@jupyter-widgets/controls",
            "_model_module_version": "1.5.0",
            "_model_name": "HBoxModel",
            "_view_count": null,
            "_view_module": "@jupyter-widgets/controls",
            "_view_module_version": "1.5.0",
            "_view_name": "HBoxView",
            "box_style": "",
            "children": [
              "IPY_MODEL_098ab8aca7954444ae949f6666ddb059",
              "IPY_MODEL_3a70cfd08d004fe3968f9bd8cb8414a8",
              "IPY_MODEL_e2c0f0427eaf4d51904adc606c0ed330"
            ],
            "layout": "IPY_MODEL_3a35559b89474a478b4d6ae40862cd5a"
          }
        },
        "478c3e58eed2436fa3f2ae26c65d96cd": {
          "model_module": "@jupyter-widgets/controls",
          "model_module_version": "1.5.0",
          "model_name": "HTMLModel",
          "state": {
            "_dom_classes": [],
            "_model_module": "@jupyter-widgets/controls",
            "_model_module_version": "1.5.0",
            "_model_name": "HTMLModel",
            "_view_count": null,
            "_view_module": "@jupyter-widgets/controls",
            "_view_module_version": "1.5.0",
            "_view_name": "HTMLView",
            "description": "",
            "description_tooltip": null,
            "layout": "IPY_MODEL_c7625daba80c40d7bf2fc8dff439875c",
            "placeholder": "​",
            "style": "IPY_MODEL_4d7a7605f60c4c5d8a17281ddce0c039",
            "value": "100%"
          }
        },
        "48676cd4307445a5b469d7afb537c133": {
          "model_module": "@jupyter-widgets/controls",
          "model_module_version": "1.5.0",
          "model_name": "DescriptionStyleModel",
          "state": {
            "_model_module": "@jupyter-widgets/controls",
            "_model_module_version": "1.5.0",
            "_model_name": "DescriptionStyleModel",
            "_view_count": null,
            "_view_module": "@jupyter-widgets/base",
            "_view_module_version": "1.2.0",
            "_view_name": "StyleView",
            "description_width": ""
          }
        },
        "4d7a7605f60c4c5d8a17281ddce0c039": {
          "model_module": "@jupyter-widgets/controls",
          "model_module_version": "1.5.0",
          "model_name": "DescriptionStyleModel",
          "state": {
            "_model_module": "@jupyter-widgets/controls",
            "_model_module_version": "1.5.0",
            "_model_name": "DescriptionStyleModel",
            "_view_count": null,
            "_view_module": "@jupyter-widgets/base",
            "_view_module_version": "1.2.0",
            "_view_name": "StyleView",
            "description_width": ""
          }
        },
        "5004592d43ad4c8899845d70d30d636b": {
          "model_module": "@jupyter-widgets/controls",
          "model_module_version": "1.5.0",
          "model_name": "HTMLModel",
          "state": {
            "_dom_classes": [],
            "_model_module": "@jupyter-widgets/controls",
            "_model_module_version": "1.5.0",
            "_model_name": "HTMLModel",
            "_view_count": null,
            "_view_module": "@jupyter-widgets/controls",
            "_view_module_version": "1.5.0",
            "_view_name": "HTMLView",
            "description": "",
            "description_tooltip": null,
            "layout": "IPY_MODEL_60ee9aad187f47a0aab5497b6bb9180d",
            "placeholder": "​",
            "style": "IPY_MODEL_f5165e26760042c6961fcaa826f29a66",
            "value": "100%"
          }
        },
        "550687d077f0477696bbf0cfa5a8bdd1": {
          "model_module": "@jupyter-widgets/controls",
          "model_module_version": "1.5.0",
          "model_name": "HBoxModel",
          "state": {
            "_dom_classes": [],
            "_model_module": "@jupyter-widgets/controls",
            "_model_module_version": "1.5.0",
            "_model_name": "HBoxModel",
            "_view_count": null,
            "_view_module": "@jupyter-widgets/controls",
            "_view_module_version": "1.5.0",
            "_view_name": "HBoxView",
            "box_style": "",
            "children": [
              "IPY_MODEL_478c3e58eed2436fa3f2ae26c65d96cd",
              "IPY_MODEL_f59bff12b9764b8b86e210ddaad3b15f",
              "IPY_MODEL_ba0a4911a1d045b195a0c15102d14763"
            ],
            "layout": "IPY_MODEL_8fc3c0e93c60460da411559f4d3ec3ee"
          }
        },
        "56ae8be1d14b4b9b9bc8b3513184265a": {
          "model_module": "@jupyter-widgets/controls",
          "model_module_version": "1.5.0",
          "model_name": "HTMLModel",
          "state": {
            "_dom_classes": [],
            "_model_module": "@jupyter-widgets/controls",
            "_model_module_version": "1.5.0",
            "_model_name": "HTMLModel",
            "_view_count": null,
            "_view_module": "@jupyter-widgets/controls",
            "_view_module_version": "1.5.0",
            "_view_name": "HTMLView",
            "description": "",
            "description_tooltip": null,
            "layout": "IPY_MODEL_325822241637407ab6cf466751110efa",
            "placeholder": "​",
            "style": "IPY_MODEL_3672f258b5e6405fa544acd53e8c2591",
            "value": " 1/1 [00:09&lt;00:00,  9.52s/it]"
          }
        },
        "5de09f14da15494aae7fa6626a8f4668": {
          "model_module": "@jupyter-widgets/controls",
          "model_module_version": "1.5.0",
          "model_name": "FloatProgressModel",
          "state": {
            "_dom_classes": [],
            "_model_module": "@jupyter-widgets/controls",
            "_model_module_version": "1.5.0",
            "_model_name": "FloatProgressModel",
            "_view_count": null,
            "_view_module": "@jupyter-widgets/controls",
            "_view_module_version": "1.5.0",
            "_view_name": "ProgressView",
            "bar_style": "success",
            "description": "",
            "description_tooltip": null,
            "layout": "IPY_MODEL_053a171f787a4434a16caa1031c792cd",
            "max": 1,
            "min": 0,
            "orientation": "horizontal",
            "style": "IPY_MODEL_c0539d3d6ba34704ab9c5cabf94b7c2e",
            "value": 1
          }
        },
        "5f36c83ce7b446969ca6ac0cbdf8e159": {
          "model_module": "@jupyter-widgets/controls",
          "model_module_version": "1.5.0",
          "model_name": "HTMLModel",
          "state": {
            "_dom_classes": [],
            "_model_module": "@jupyter-widgets/controls",
            "_model_module_version": "1.5.0",
            "_model_name": "HTMLModel",
            "_view_count": null,
            "_view_module": "@jupyter-widgets/controls",
            "_view_module_version": "1.5.0",
            "_view_name": "HTMLView",
            "description": "",
            "description_tooltip": null,
            "layout": "IPY_MODEL_b85d1184f3c84a38ba145b35088dea09",
            "placeholder": "​",
            "style": "IPY_MODEL_b877d86b00e34a9ca37a98af0dda7812",
            "value": "100%"
          }
        },
        "60ee9aad187f47a0aab5497b6bb9180d": {
          "model_module": "@jupyter-widgets/base",
          "model_module_version": "1.2.0",
          "model_name": "LayoutModel",
          "state": {
            "_model_module": "@jupyter-widgets/base",
            "_model_module_version": "1.2.0",
            "_model_name": "LayoutModel",
            "_view_count": null,
            "_view_module": "@jupyter-widgets/base",
            "_view_module_version": "1.2.0",
            "_view_name": "LayoutView",
            "align_content": null,
            "align_items": null,
            "align_self": null,
            "border": null,
            "bottom": null,
            "display": null,
            "flex": null,
            "flex_flow": null,
            "grid_area": null,
            "grid_auto_columns": null,
            "grid_auto_flow": null,
            "grid_auto_rows": null,
            "grid_column": null,
            "grid_gap": null,
            "grid_row": null,
            "grid_template_areas": null,
            "grid_template_columns": null,
            "grid_template_rows": null,
            "height": null,
            "justify_content": null,
            "justify_items": null,
            "left": null,
            "margin": null,
            "max_height": null,
            "max_width": null,
            "min_height": null,
            "min_width": null,
            "object_fit": null,
            "object_position": null,
            "order": null,
            "overflow": null,
            "overflow_x": null,
            "overflow_y": null,
            "padding": null,
            "right": null,
            "top": null,
            "visibility": null,
            "width": null
          }
        },
        "63898f4fd1a241629b31455b482e0ee2": {
          "model_module": "@jupyter-widgets/controls",
          "model_module_version": "1.5.0",
          "model_name": "DescriptionStyleModel",
          "state": {
            "_model_module": "@jupyter-widgets/controls",
            "_model_module_version": "1.5.0",
            "_model_name": "DescriptionStyleModel",
            "_view_count": null,
            "_view_module": "@jupyter-widgets/base",
            "_view_module_version": "1.2.0",
            "_view_name": "StyleView",
            "description_width": ""
          }
        },
        "6996f0f673ac447b8cbe85369b50f964": {
          "model_module": "@jupyter-widgets/base",
          "model_module_version": "1.2.0",
          "model_name": "LayoutModel",
          "state": {
            "_model_module": "@jupyter-widgets/base",
            "_model_module_version": "1.2.0",
            "_model_name": "LayoutModel",
            "_view_count": null,
            "_view_module": "@jupyter-widgets/base",
            "_view_module_version": "1.2.0",
            "_view_name": "LayoutView",
            "align_content": null,
            "align_items": null,
            "align_self": null,
            "border": null,
            "bottom": null,
            "display": null,
            "flex": null,
            "flex_flow": null,
            "grid_area": null,
            "grid_auto_columns": null,
            "grid_auto_flow": null,
            "grid_auto_rows": null,
            "grid_column": null,
            "grid_gap": null,
            "grid_row": null,
            "grid_template_areas": null,
            "grid_template_columns": null,
            "grid_template_rows": null,
            "height": null,
            "justify_content": null,
            "justify_items": null,
            "left": null,
            "margin": null,
            "max_height": null,
            "max_width": null,
            "min_height": null,
            "min_width": null,
            "object_fit": null,
            "object_position": null,
            "order": null,
            "overflow": null,
            "overflow_x": null,
            "overflow_y": null,
            "padding": null,
            "right": null,
            "top": null,
            "visibility": null,
            "width": null
          }
        },
        "7c5eaebd4030434bae30d1ef1020f6dd": {
          "model_module": "@jupyter-widgets/controls",
          "model_module_version": "1.5.0",
          "model_name": "ProgressStyleModel",
          "state": {
            "_model_module": "@jupyter-widgets/controls",
            "_model_module_version": "1.5.0",
            "_model_name": "ProgressStyleModel",
            "_view_count": null,
            "_view_module": "@jupyter-widgets/base",
            "_view_module_version": "1.2.0",
            "_view_name": "StyleView",
            "bar_color": null,
            "description_width": ""
          }
        },
        "7e3201276e0c498db9bc808f1c5a9ace": {
          "model_module": "@jupyter-widgets/controls",
          "model_module_version": "1.5.0",
          "model_name": "HTMLModel",
          "state": {
            "_dom_classes": [],
            "_model_module": "@jupyter-widgets/controls",
            "_model_module_version": "1.5.0",
            "_model_name": "HTMLModel",
            "_view_count": null,
            "_view_module": "@jupyter-widgets/controls",
            "_view_module_version": "1.5.0",
            "_view_name": "HTMLView",
            "description": "",
            "description_tooltip": null,
            "layout": "IPY_MODEL_3ff254f1530b4b2da3f38a2f521f1352",
            "placeholder": "​",
            "style": "IPY_MODEL_8de4d60bf78f42228368371ce66fe7d1",
            "value": " 20/20 [12:41&lt;00:00, 37.53s/it]"
          }
        },
        "8de4d60bf78f42228368371ce66fe7d1": {
          "model_module": "@jupyter-widgets/controls",
          "model_module_version": "1.5.0",
          "model_name": "DescriptionStyleModel",
          "state": {
            "_model_module": "@jupyter-widgets/controls",
            "_model_module_version": "1.5.0",
            "_model_name": "DescriptionStyleModel",
            "_view_count": null,
            "_view_module": "@jupyter-widgets/base",
            "_view_module_version": "1.2.0",
            "_view_name": "StyleView",
            "description_width": ""
          }
        },
        "8fc3c0e93c60460da411559f4d3ec3ee": {
          "model_module": "@jupyter-widgets/base",
          "model_module_version": "1.2.0",
          "model_name": "LayoutModel",
          "state": {
            "_model_module": "@jupyter-widgets/base",
            "_model_module_version": "1.2.0",
            "_model_name": "LayoutModel",
            "_view_count": null,
            "_view_module": "@jupyter-widgets/base",
            "_view_module_version": "1.2.0",
            "_view_name": "LayoutView",
            "align_content": null,
            "align_items": null,
            "align_self": null,
            "border": null,
            "bottom": null,
            "display": null,
            "flex": null,
            "flex_flow": null,
            "grid_area": null,
            "grid_auto_columns": null,
            "grid_auto_flow": null,
            "grid_auto_rows": null,
            "grid_column": null,
            "grid_gap": null,
            "grid_row": null,
            "grid_template_areas": null,
            "grid_template_columns": null,
            "grid_template_rows": null,
            "height": null,
            "justify_content": null,
            "justify_items": null,
            "left": null,
            "margin": null,
            "max_height": null,
            "max_width": null,
            "min_height": null,
            "min_width": null,
            "object_fit": null,
            "object_position": null,
            "order": null,
            "overflow": null,
            "overflow_x": null,
            "overflow_y": null,
            "padding": null,
            "right": null,
            "top": null,
            "visibility": null,
            "width": null
          }
        },
        "9730d995825a43c58950633f022e19e9": {
          "model_module": "@jupyter-widgets/controls",
          "model_module_version": "1.5.0",
          "model_name": "ProgressStyleModel",
          "state": {
            "_model_module": "@jupyter-widgets/controls",
            "_model_module_version": "1.5.0",
            "_model_name": "ProgressStyleModel",
            "_view_count": null,
            "_view_module": "@jupyter-widgets/base",
            "_view_module_version": "1.2.0",
            "_view_name": "StyleView",
            "bar_color": null,
            "description_width": ""
          }
        },
        "98a6b4df52ca4a2b80b406303fd5fce6": {
          "model_module": "@jupyter-widgets/base",
          "model_module_version": "1.2.0",
          "model_name": "LayoutModel",
          "state": {
            "_model_module": "@jupyter-widgets/base",
            "_model_module_version": "1.2.0",
            "_model_name": "LayoutModel",
            "_view_count": null,
            "_view_module": "@jupyter-widgets/base",
            "_view_module_version": "1.2.0",
            "_view_name": "LayoutView",
            "align_content": null,
            "align_items": null,
            "align_self": null,
            "border": null,
            "bottom": null,
            "display": null,
            "flex": null,
            "flex_flow": null,
            "grid_area": null,
            "grid_auto_columns": null,
            "grid_auto_flow": null,
            "grid_auto_rows": null,
            "grid_column": null,
            "grid_gap": null,
            "grid_row": null,
            "grid_template_areas": null,
            "grid_template_columns": null,
            "grid_template_rows": null,
            "height": null,
            "justify_content": null,
            "justify_items": null,
            "left": null,
            "margin": null,
            "max_height": null,
            "max_width": null,
            "min_height": null,
            "min_width": null,
            "object_fit": null,
            "object_position": null,
            "order": null,
            "overflow": null,
            "overflow_x": null,
            "overflow_y": null,
            "padding": null,
            "right": null,
            "top": null,
            "visibility": null,
            "width": null
          }
        },
        "aaa3a5a82c55494aaf58867a55d61ab6": {
          "model_module": "@jupyter-widgets/controls",
          "model_module_version": "1.5.0",
          "model_name": "HTMLModel",
          "state": {
            "_dom_classes": [],
            "_model_module": "@jupyter-widgets/controls",
            "_model_module_version": "1.5.0",
            "_model_name": "HTMLModel",
            "_view_count": null,
            "_view_module": "@jupyter-widgets/controls",
            "_view_module_version": "1.5.0",
            "_view_name": "HTMLView",
            "description": "",
            "description_tooltip": null,
            "layout": "IPY_MODEL_07f122d73156465a815898bde6db32bb",
            "placeholder": "​",
            "style": "IPY_MODEL_02bc4eb590ef4ef1ba774b6b62afd896",
            "value": " 20/20 [03:02&lt;00:00,  9.06s/it]"
          }
        },
        "aedaf2cf674e4202a803d84b231baeca": {
          "model_module": "@jupyter-widgets/controls",
          "model_module_version": "1.5.0",
          "model_name": "DescriptionStyleModel",
          "state": {
            "_model_module": "@jupyter-widgets/controls",
            "_model_module_version": "1.5.0",
            "_model_name": "DescriptionStyleModel",
            "_view_count": null,
            "_view_module": "@jupyter-widgets/base",
            "_view_module_version": "1.2.0",
            "_view_name": "StyleView",
            "description_width": ""
          }
        },
        "b0fadc4d2b224345be9d5b8c7c5dd233": {
          "model_module": "@jupyter-widgets/base",
          "model_module_version": "1.2.0",
          "model_name": "LayoutModel",
          "state": {
            "_model_module": "@jupyter-widgets/base",
            "_model_module_version": "1.2.0",
            "_model_name": "LayoutModel",
            "_view_count": null,
            "_view_module": "@jupyter-widgets/base",
            "_view_module_version": "1.2.0",
            "_view_name": "LayoutView",
            "align_content": null,
            "align_items": null,
            "align_self": null,
            "border": null,
            "bottom": null,
            "display": null,
            "flex": null,
            "flex_flow": null,
            "grid_area": null,
            "grid_auto_columns": null,
            "grid_auto_flow": null,
            "grid_auto_rows": null,
            "grid_column": null,
            "grid_gap": null,
            "grid_row": null,
            "grid_template_areas": null,
            "grid_template_columns": null,
            "grid_template_rows": null,
            "height": null,
            "justify_content": null,
            "justify_items": null,
            "left": null,
            "margin": null,
            "max_height": null,
            "max_width": null,
            "min_height": null,
            "min_width": null,
            "object_fit": null,
            "object_position": null,
            "order": null,
            "overflow": null,
            "overflow_x": null,
            "overflow_y": null,
            "padding": null,
            "right": null,
            "top": null,
            "visibility": null,
            "width": null
          }
        },
        "b4ef4b49e0ac4d98a8235fcc037f3bad": {
          "model_module": "@jupyter-widgets/controls",
          "model_module_version": "1.5.0",
          "model_name": "DescriptionStyleModel",
          "state": {
            "_model_module": "@jupyter-widgets/controls",
            "_model_module_version": "1.5.0",
            "_model_name": "DescriptionStyleModel",
            "_view_count": null,
            "_view_module": "@jupyter-widgets/base",
            "_view_module_version": "1.2.0",
            "_view_name": "StyleView",
            "description_width": ""
          }
        },
        "b85d1184f3c84a38ba145b35088dea09": {
          "model_module": "@jupyter-widgets/base",
          "model_module_version": "1.2.0",
          "model_name": "LayoutModel",
          "state": {
            "_model_module": "@jupyter-widgets/base",
            "_model_module_version": "1.2.0",
            "_model_name": "LayoutModel",
            "_view_count": null,
            "_view_module": "@jupyter-widgets/base",
            "_view_module_version": "1.2.0",
            "_view_name": "LayoutView",
            "align_content": null,
            "align_items": null,
            "align_self": null,
            "border": null,
            "bottom": null,
            "display": null,
            "flex": null,
            "flex_flow": null,
            "grid_area": null,
            "grid_auto_columns": null,
            "grid_auto_flow": null,
            "grid_auto_rows": null,
            "grid_column": null,
            "grid_gap": null,
            "grid_row": null,
            "grid_template_areas": null,
            "grid_template_columns": null,
            "grid_template_rows": null,
            "height": null,
            "justify_content": null,
            "justify_items": null,
            "left": null,
            "margin": null,
            "max_height": null,
            "max_width": null,
            "min_height": null,
            "min_width": null,
            "object_fit": null,
            "object_position": null,
            "order": null,
            "overflow": null,
            "overflow_x": null,
            "overflow_y": null,
            "padding": null,
            "right": null,
            "top": null,
            "visibility": null,
            "width": null
          }
        },
        "b877d86b00e34a9ca37a98af0dda7812": {
          "model_module": "@jupyter-widgets/controls",
          "model_module_version": "1.5.0",
          "model_name": "DescriptionStyleModel",
          "state": {
            "_model_module": "@jupyter-widgets/controls",
            "_model_module_version": "1.5.0",
            "_model_name": "DescriptionStyleModel",
            "_view_count": null,
            "_view_module": "@jupyter-widgets/base",
            "_view_module_version": "1.2.0",
            "_view_name": "StyleView",
            "description_width": ""
          }
        },
        "b8be7e684700416b9dffe5cd90ce1df8": {
          "model_module": "@jupyter-widgets/controls",
          "model_module_version": "1.5.0",
          "model_name": "HBoxModel",
          "state": {
            "_dom_classes": [],
            "_model_module": "@jupyter-widgets/controls",
            "_model_module_version": "1.5.0",
            "_model_name": "HBoxModel",
            "_view_count": null,
            "_view_module": "@jupyter-widgets/controls",
            "_view_module_version": "1.5.0",
            "_view_name": "HBoxView",
            "box_style": "",
            "children": [
              "IPY_MODEL_0eed09ba4f104828865c59e83cd54a04",
              "IPY_MODEL_c71ab49fbb144cddbe448ad6c2d68288",
              "IPY_MODEL_d8933791309a434ebdd6ec1a9212914e"
            ],
            "layout": "IPY_MODEL_25cae8042c944c68abce856f9f9e0eb0"
          }
        },
        "ba0a4911a1d045b195a0c15102d14763": {
          "model_module": "@jupyter-widgets/controls",
          "model_module_version": "1.5.0",
          "model_name": "HTMLModel",
          "state": {
            "_dom_classes": [],
            "_model_module": "@jupyter-widgets/controls",
            "_model_module_version": "1.5.0",
            "_model_name": "HTMLModel",
            "_view_count": null,
            "_view_module": "@jupyter-widgets/controls",
            "_view_module_version": "1.5.0",
            "_view_name": "HTMLView",
            "description": "",
            "description_tooltip": null,
            "layout": "IPY_MODEL_98a6b4df52ca4a2b80b406303fd5fce6",
            "placeholder": "​",
            "style": "IPY_MODEL_fc41e5039a3b459586356362701148c4",
            "value": " 1/1 [00:10&lt;00:00, 10.04s/it]"
          }
        },
        "ba45049d02224bcd8cee5cd415360888": {
          "model_module": "@jupyter-widgets/base",
          "model_module_version": "1.2.0",
          "model_name": "LayoutModel",
          "state": {
            "_model_module": "@jupyter-widgets/base",
            "_model_module_version": "1.2.0",
            "_model_name": "LayoutModel",
            "_view_count": null,
            "_view_module": "@jupyter-widgets/base",
            "_view_module_version": "1.2.0",
            "_view_name": "LayoutView",
            "align_content": null,
            "align_items": null,
            "align_self": null,
            "border": null,
            "bottom": null,
            "display": null,
            "flex": null,
            "flex_flow": null,
            "grid_area": null,
            "grid_auto_columns": null,
            "grid_auto_flow": null,
            "grid_auto_rows": null,
            "grid_column": null,
            "grid_gap": null,
            "grid_row": null,
            "grid_template_areas": null,
            "grid_template_columns": null,
            "grid_template_rows": null,
            "height": null,
            "justify_content": null,
            "justify_items": null,
            "left": null,
            "margin": null,
            "max_height": null,
            "max_width": null,
            "min_height": null,
            "min_width": null,
            "object_fit": null,
            "object_position": null,
            "order": null,
            "overflow": null,
            "overflow_x": null,
            "overflow_y": null,
            "padding": null,
            "right": null,
            "top": null,
            "visibility": null,
            "width": null
          }
        },
        "bd19d5e76a9947a5b0d4ca33470cecdc": {
          "model_module": "@jupyter-widgets/controls",
          "model_module_version": "1.5.0",
          "model_name": "ProgressStyleModel",
          "state": {
            "_model_module": "@jupyter-widgets/controls",
            "_model_module_version": "1.5.0",
            "_model_name": "ProgressStyleModel",
            "_view_count": null,
            "_view_module": "@jupyter-widgets/base",
            "_view_module_version": "1.2.0",
            "_view_name": "StyleView",
            "bar_color": null,
            "description_width": ""
          }
        },
        "bdd31d05ffea4f9f86a2e6491331cc2d": {
          "model_module": "@jupyter-widgets/base",
          "model_module_version": "1.2.0",
          "model_name": "LayoutModel",
          "state": {
            "_model_module": "@jupyter-widgets/base",
            "_model_module_version": "1.2.0",
            "_model_name": "LayoutModel",
            "_view_count": null,
            "_view_module": "@jupyter-widgets/base",
            "_view_module_version": "1.2.0",
            "_view_name": "LayoutView",
            "align_content": null,
            "align_items": null,
            "align_self": null,
            "border": null,
            "bottom": null,
            "display": null,
            "flex": null,
            "flex_flow": null,
            "grid_area": null,
            "grid_auto_columns": null,
            "grid_auto_flow": null,
            "grid_auto_rows": null,
            "grid_column": null,
            "grid_gap": null,
            "grid_row": null,
            "grid_template_areas": null,
            "grid_template_columns": null,
            "grid_template_rows": null,
            "height": null,
            "justify_content": null,
            "justify_items": null,
            "left": null,
            "margin": null,
            "max_height": null,
            "max_width": null,
            "min_height": null,
            "min_width": null,
            "object_fit": null,
            "object_position": null,
            "order": null,
            "overflow": null,
            "overflow_x": null,
            "overflow_y": null,
            "padding": null,
            "right": null,
            "top": null,
            "visibility": null,
            "width": null
          }
        },
        "c0428772c3384c9eb451121d0d2bbf87": {
          "model_module": "@jupyter-widgets/controls",
          "model_module_version": "1.5.0",
          "model_name": "FloatProgressModel",
          "state": {
            "_dom_classes": [],
            "_model_module": "@jupyter-widgets/controls",
            "_model_module_version": "1.5.0",
            "_model_name": "FloatProgressModel",
            "_view_count": null,
            "_view_module": "@jupyter-widgets/controls",
            "_view_module_version": "1.5.0",
            "_view_name": "ProgressView",
            "bar_style": "success",
            "description": "",
            "description_tooltip": null,
            "layout": "IPY_MODEL_3d4ad6b9774c4af5acc068d634d43001",
            "max": 20,
            "min": 0,
            "orientation": "horizontal",
            "style": "IPY_MODEL_7c5eaebd4030434bae30d1ef1020f6dd",
            "value": 20
          }
        },
        "c0539d3d6ba34704ab9c5cabf94b7c2e": {
          "model_module": "@jupyter-widgets/controls",
          "model_module_version": "1.5.0",
          "model_name": "ProgressStyleModel",
          "state": {
            "_model_module": "@jupyter-widgets/controls",
            "_model_module_version": "1.5.0",
            "_model_name": "ProgressStyleModel",
            "_view_count": null,
            "_view_module": "@jupyter-widgets/base",
            "_view_module_version": "1.2.0",
            "_view_name": "StyleView",
            "bar_color": null,
            "description_width": ""
          }
        },
        "c71266494b1646a8955023840f210257": {
          "model_module": "@jupyter-widgets/base",
          "model_module_version": "1.2.0",
          "model_name": "LayoutModel",
          "state": {
            "_model_module": "@jupyter-widgets/base",
            "_model_module_version": "1.2.0",
            "_model_name": "LayoutModel",
            "_view_count": null,
            "_view_module": "@jupyter-widgets/base",
            "_view_module_version": "1.2.0",
            "_view_name": "LayoutView",
            "align_content": null,
            "align_items": null,
            "align_self": null,
            "border": null,
            "bottom": null,
            "display": null,
            "flex": null,
            "flex_flow": null,
            "grid_area": null,
            "grid_auto_columns": null,
            "grid_auto_flow": null,
            "grid_auto_rows": null,
            "grid_column": null,
            "grid_gap": null,
            "grid_row": null,
            "grid_template_areas": null,
            "grid_template_columns": null,
            "grid_template_rows": null,
            "height": null,
            "justify_content": null,
            "justify_items": null,
            "left": null,
            "margin": null,
            "max_height": null,
            "max_width": null,
            "min_height": null,
            "min_width": null,
            "object_fit": null,
            "object_position": null,
            "order": null,
            "overflow": null,
            "overflow_x": null,
            "overflow_y": null,
            "padding": null,
            "right": null,
            "top": null,
            "visibility": null,
            "width": null
          }
        },
        "c71ab49fbb144cddbe448ad6c2d68288": {
          "model_module": "@jupyter-widgets/controls",
          "model_module_version": "1.5.0",
          "model_name": "FloatProgressModel",
          "state": {
            "_dom_classes": [],
            "_model_module": "@jupyter-widgets/controls",
            "_model_module_version": "1.5.0",
            "_model_name": "FloatProgressModel",
            "_view_count": null,
            "_view_module": "@jupyter-widgets/controls",
            "_view_module_version": "1.5.0",
            "_view_name": "ProgressView",
            "bar_style": "success",
            "description": "",
            "description_tooltip": null,
            "layout": "IPY_MODEL_d912e4c149ee4609b549896e5fe42828",
            "max": 20,
            "min": 0,
            "orientation": "horizontal",
            "style": "IPY_MODEL_101dba94fe6f48dea82a5bf33cdca275",
            "value": 20
          }
        },
        "c7625daba80c40d7bf2fc8dff439875c": {
          "model_module": "@jupyter-widgets/base",
          "model_module_version": "1.2.0",
          "model_name": "LayoutModel",
          "state": {
            "_model_module": "@jupyter-widgets/base",
            "_model_module_version": "1.2.0",
            "_model_name": "LayoutModel",
            "_view_count": null,
            "_view_module": "@jupyter-widgets/base",
            "_view_module_version": "1.2.0",
            "_view_name": "LayoutView",
            "align_content": null,
            "align_items": null,
            "align_self": null,
            "border": null,
            "bottom": null,
            "display": null,
            "flex": null,
            "flex_flow": null,
            "grid_area": null,
            "grid_auto_columns": null,
            "grid_auto_flow": null,
            "grid_auto_rows": null,
            "grid_column": null,
            "grid_gap": null,
            "grid_row": null,
            "grid_template_areas": null,
            "grid_template_columns": null,
            "grid_template_rows": null,
            "height": null,
            "justify_content": null,
            "justify_items": null,
            "left": null,
            "margin": null,
            "max_height": null,
            "max_width": null,
            "min_height": null,
            "min_width": null,
            "object_fit": null,
            "object_position": null,
            "order": null,
            "overflow": null,
            "overflow_x": null,
            "overflow_y": null,
            "padding": null,
            "right": null,
            "top": null,
            "visibility": null,
            "width": null
          }
        },
        "cf27b7692f514eadace12275953939d8": {
          "model_module": "@jupyter-widgets/controls",
          "model_module_version": "1.5.0",
          "model_name": "HBoxModel",
          "state": {
            "_dom_classes": [],
            "_model_module": "@jupyter-widgets/controls",
            "_model_module_version": "1.5.0",
            "_model_name": "HBoxModel",
            "_view_count": null,
            "_view_module": "@jupyter-widgets/controls",
            "_view_module_version": "1.5.0",
            "_view_name": "HBoxView",
            "box_style": "",
            "children": [
              "IPY_MODEL_5004592d43ad4c8899845d70d30d636b",
              "IPY_MODEL_5de09f14da15494aae7fa6626a8f4668",
              "IPY_MODEL_56ae8be1d14b4b9b9bc8b3513184265a"
            ],
            "layout": "IPY_MODEL_36bd66062a7e45bfb0b2bcf8aba22690"
          }
        },
        "d670673278c1434294ab1cdc476a7e52": {
          "model_module": "@jupyter-widgets/controls",
          "model_module_version": "1.5.0",
          "model_name": "HBoxModel",
          "state": {
            "_dom_classes": [],
            "_model_module": "@jupyter-widgets/controls",
            "_model_module_version": "1.5.0",
            "_model_name": "HBoxModel",
            "_view_count": null,
            "_view_module": "@jupyter-widgets/controls",
            "_view_module_version": "1.5.0",
            "_view_name": "HBoxView",
            "box_style": "",
            "children": [
              "IPY_MODEL_5f36c83ce7b446969ca6ac0cbdf8e159",
              "IPY_MODEL_3ffb2806aac94311bf785742404c00f9",
              "IPY_MODEL_aaa3a5a82c55494aaf58867a55d61ab6"
            ],
            "layout": "IPY_MODEL_c71266494b1646a8955023840f210257"
          }
        },
        "d8933791309a434ebdd6ec1a9212914e": {
          "model_module": "@jupyter-widgets/controls",
          "model_module_version": "1.5.0",
          "model_name": "HTMLModel",
          "state": {
            "_dom_classes": [],
            "_model_module": "@jupyter-widgets/controls",
            "_model_module_version": "1.5.0",
            "_model_name": "HTMLModel",
            "_view_count": null,
            "_view_module": "@jupyter-widgets/controls",
            "_view_module_version": "1.5.0",
            "_view_name": "HTMLView",
            "description": "",
            "description_tooltip": null,
            "layout": "IPY_MODEL_6996f0f673ac447b8cbe85369b50f964",
            "placeholder": "​",
            "style": "IPY_MODEL_aedaf2cf674e4202a803d84b231baeca",
            "value": " 20/20 [03:04&lt;00:00,  9.20s/it]"
          }
        },
        "d912e4c149ee4609b549896e5fe42828": {
          "model_module": "@jupyter-widgets/base",
          "model_module_version": "1.2.0",
          "model_name": "LayoutModel",
          "state": {
            "_model_module": "@jupyter-widgets/base",
            "_model_module_version": "1.2.0",
            "_model_name": "LayoutModel",
            "_view_count": null,
            "_view_module": "@jupyter-widgets/base",
            "_view_module_version": "1.2.0",
            "_view_name": "LayoutView",
            "align_content": null,
            "align_items": null,
            "align_self": null,
            "border": null,
            "bottom": null,
            "display": null,
            "flex": null,
            "flex_flow": null,
            "grid_area": null,
            "grid_auto_columns": null,
            "grid_auto_flow": null,
            "grid_auto_rows": null,
            "grid_column": null,
            "grid_gap": null,
            "grid_row": null,
            "grid_template_areas": null,
            "grid_template_columns": null,
            "grid_template_rows": null,
            "height": null,
            "justify_content": null,
            "justify_items": null,
            "left": null,
            "margin": null,
            "max_height": null,
            "max_width": null,
            "min_height": null,
            "min_width": null,
            "object_fit": null,
            "object_position": null,
            "order": null,
            "overflow": null,
            "overflow_x": null,
            "overflow_y": null,
            "padding": null,
            "right": null,
            "top": null,
            "visibility": null,
            "width": null
          }
        },
        "da18a9daf68042ae84323b6caa29007e": {
          "model_module": "@jupyter-widgets/controls",
          "model_module_version": "1.5.0",
          "model_name": "ProgressStyleModel",
          "state": {
            "_model_module": "@jupyter-widgets/controls",
            "_model_module_version": "1.5.0",
            "_model_name": "ProgressStyleModel",
            "_view_count": null,
            "_view_module": "@jupyter-widgets/base",
            "_view_module_version": "1.2.0",
            "_view_name": "StyleView",
            "bar_color": null,
            "description_width": ""
          }
        },
        "e2c0f0427eaf4d51904adc606c0ed330": {
          "model_module": "@jupyter-widgets/controls",
          "model_module_version": "1.5.0",
          "model_name": "HTMLModel",
          "state": {
            "_dom_classes": [],
            "_model_module": "@jupyter-widgets/controls",
            "_model_module_version": "1.5.0",
            "_model_name": "HTMLModel",
            "_view_count": null,
            "_view_module": "@jupyter-widgets/controls",
            "_view_module_version": "1.5.0",
            "_view_name": "HTMLView",
            "description": "",
            "description_tooltip": null,
            "layout": "IPY_MODEL_b0fadc4d2b224345be9d5b8c7c5dd233",
            "placeholder": "​",
            "style": "IPY_MODEL_b4ef4b49e0ac4d98a8235fcc037f3bad",
            "value": " 1/1 [00:57&lt;00:00, 58.00s/it]"
          }
        },
        "f5165e26760042c6961fcaa826f29a66": {
          "model_module": "@jupyter-widgets/controls",
          "model_module_version": "1.5.0",
          "model_name": "DescriptionStyleModel",
          "state": {
            "_model_module": "@jupyter-widgets/controls",
            "_model_module_version": "1.5.0",
            "_model_name": "DescriptionStyleModel",
            "_view_count": null,
            "_view_module": "@jupyter-widgets/base",
            "_view_module_version": "1.2.0",
            "_view_name": "StyleView",
            "description_width": ""
          }
        },
        "f59bff12b9764b8b86e210ddaad3b15f": {
          "model_module": "@jupyter-widgets/controls",
          "model_module_version": "1.5.0",
          "model_name": "FloatProgressModel",
          "state": {
            "_dom_classes": [],
            "_model_module": "@jupyter-widgets/controls",
            "_model_module_version": "1.5.0",
            "_model_name": "FloatProgressModel",
            "_view_count": null,
            "_view_module": "@jupyter-widgets/controls",
            "_view_module_version": "1.5.0",
            "_view_name": "ProgressView",
            "bar_style": "success",
            "description": "",
            "description_tooltip": null,
            "layout": "IPY_MODEL_fc96cc06ad414b5db2b023ad407ddff6",
            "max": 1,
            "min": 0,
            "orientation": "horizontal",
            "style": "IPY_MODEL_bd19d5e76a9947a5b0d4ca33470cecdc",
            "value": 1
          }
        },
        "fc41e5039a3b459586356362701148c4": {
          "model_module": "@jupyter-widgets/controls",
          "model_module_version": "1.5.0",
          "model_name": "DescriptionStyleModel",
          "state": {
            "_model_module": "@jupyter-widgets/controls",
            "_model_module_version": "1.5.0",
            "_model_name": "DescriptionStyleModel",
            "_view_count": null,
            "_view_module": "@jupyter-widgets/base",
            "_view_module_version": "1.2.0",
            "_view_name": "StyleView",
            "description_width": ""
          }
        },
        "fc96cc06ad414b5db2b023ad407ddff6": {
          "model_module": "@jupyter-widgets/base",
          "model_module_version": "1.2.0",
          "model_name": "LayoutModel",
          "state": {
            "_model_module": "@jupyter-widgets/base",
            "_model_module_version": "1.2.0",
            "_model_name": "LayoutModel",
            "_view_count": null,
            "_view_module": "@jupyter-widgets/base",
            "_view_module_version": "1.2.0",
            "_view_name": "LayoutView",
            "align_content": null,
            "align_items": null,
            "align_self": null,
            "border": null,
            "bottom": null,
            "display": null,
            "flex": null,
            "flex_flow": null,
            "grid_area": null,
            "grid_auto_columns": null,
            "grid_auto_flow": null,
            "grid_auto_rows": null,
            "grid_column": null,
            "grid_gap": null,
            "grid_row": null,
            "grid_template_areas": null,
            "grid_template_columns": null,
            "grid_template_rows": null,
            "height": null,
            "justify_content": null,
            "justify_items": null,
            "left": null,
            "margin": null,
            "max_height": null,
            "max_width": null,
            "min_height": null,
            "min_width": null,
            "object_fit": null,
            "object_position": null,
            "order": null,
            "overflow": null,
            "overflow_x": null,
            "overflow_y": null,
            "padding": null,
            "right": null,
            "top": null,
            "visibility": null,
            "width": null
          }
        }
      }
    }
  },
  "nbformat": 4,
  "nbformat_minor": 0
}
